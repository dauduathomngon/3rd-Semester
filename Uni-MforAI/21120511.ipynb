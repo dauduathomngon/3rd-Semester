{
 "cells": [
  {
   "cell_type": "markdown",
   "id": "9ae044c1",
   "metadata": {},
   "source": [
    "# Đề Thực hành 2 Phương pháp toán cho Trí tuệ nhân tạo.\n",
    "## Khoa CNTT - trường ĐH KHTN TPHCM."
   ]
  },
  {
   "attachments": {},
   "cell_type": "markdown",
   "id": "cafb3097",
   "metadata": {},
   "source": [
    "Tên: Lê Nguyễn\n",
    "\n",
    "MSSV: 21120511"
   ]
  },
  {
   "cell_type": "markdown",
   "id": "ec621c6a",
   "metadata": {},
   "source": [
    "## Bài 1. (3 điểm)\n",
    "Cho hai ma trận sau đây"
   ]
  },
  {
   "cell_type": "markdown",
   "id": "a0cec2e0",
   "metadata": {},
   "source": [
    "$$A=\\left( \\begin{matrix}\n",
    "   1 & 0 & 2 & a  \\\\\n",
    "   1 & 2 & 4 & b  \\\\\n",
    "   -1 & 2 & 0 & c  \\\\\n",
    "   3 & -1 & 3 & d  \\\\\n",
    "\\end{matrix} \\right), B=\\left( \\begin{matrix}\n",
    "   4 & 5 & 1 & -2  \\\\\n",
    "   0 & 1 & 2 & 1  \\\\\n",
    "   0 & -2 & -3 & 1  \\\\\n",
    "   a & b & c & d  \\\\\n",
    "\\end{matrix} \\right)$$\n",
    "trong đó $a,b,c,d$ là $4$ số cuối trong $MSSV$ (viết theo thứ tự từ trái sang phải). Khi làm bài, $SV$ chủ động thay các mã số đó vào đề bài trên."
   ]
  },
  {
   "cell_type": "markdown",
   "id": "4e90594a",
   "metadata": {},
   "source": [
    "Bằng cách dùng các thư viện có hỗ trợ sẵn của Python, hãy thực hiện các yêu cầu sau:\n",
    "* a) Tính $B+A$, $B{{A}^{T}}$, $2A-3B$.\n",
    "* b) Tính $\\det (A)$ , $\\det ({{B}^{T}}+2I)$, $rank(AB).$ \n",
    "* c) Tính norm của vector hàng $1$ của $A,$ tính norm của vector cột $3$ của $B,$ tính tổng các phần tử trên đường chéo của $A.$\n",
    "* d) Kiểm tra công thức ${{(AB)}^{T}}={{B}^{T}}{{A}^{T}}$ dựa trên hai ma trận đã cho.\n",
    "* e) Sinh ngẫu nhiên một ma trận $C$ có kích thước $4\\times 4$ với các phần tử là số nguyên trong miền từ $-9\\to 9$, từ đó in ra các phần tử nằm phía dưới đường chéo của $A+BC.$ \n",
    "* f) Tìm ma trận $C$ thỏa mãn $AC - C = B$. *Gợi ý:* $C = CI = IC$ với $I$ là ma trận đơn vị."
   ]
  },
  {
   "cell_type": "code",
   "execution_count": null,
   "id": "2b658fa8",
   "metadata": {},
   "outputs": [],
   "source": [
    "#CODE HERE (mỗi câu hỏi làm trên một cell riêng)\n",
    "import numpy as np\n",
    "\n",
    "A: np.ndarray = np.array([[1, 0, 2, 0],\n",
    "                         [1, 2, 4, 5],\n",
    "                         [-1, 2, 0, 1],\n",
    "                         [3, -1, 3, 1]])\n",
    "B: np.ndarray = np.array([[4, 5, 1, -2],\n",
    "                          [0, 1, 2, 1],\n",
    "                          [0, -2, -3 ,1],\n",
    "                          [0, 5, 1, 1]])\n",
    "\n",
    "# a)\n",
    "print(\"Câu A:\")\n",
    "print(f\"ma trận A + B: \\n {A + B}\")\n",
    "print(f\"ma trận BA^T: \\n {B @ A.T}\")\n",
    "print(f\"ma trận 2A - 3B: \\n {2*A - 3*B}\")\n",
    "\n",
    "# b)\n",
    "print(\"\\n Câu B:\")\n",
    "\n",
    "detA = np.linalg.det(A)\n",
    "print(f\"det(A) = {detA}\")\n",
    "\n",
    "# np.identity(B.shape[0]) will generate matrix I with have column same as B\n",
    "E = B.T + 2 * np.identity(B.shape[0])\n",
    "print(f\"det(B^T + 2I) = {np.linalg.det(E)}\")\n",
    "\n",
    "rankAB = np.linalg.matrix_rank(A @ B)\n",
    "print(f\"rank(AB) = {rankAB}\")\n",
    "\n",
    "# c)\n",
    "print(\"\\n Câu C:\")\n",
    "\n",
    "normRow1A = np.linalg.norm(A[0])\n",
    "print(f\"Norm của vector hàng 1 của A: {normRow1A}\")\n",
    "\n",
    "normCol3B = np.linalg.norm(B[:,2])\n",
    "print(f\"Norm của vector cột 3 của A: {normCol3B}\")\n",
    "\n",
    "# d)\n",
    "print(\"\\n Câu D:\")\n",
    "\n",
    "F = A @ B\n",
    "G = B.T @ A.T\n",
    "if (np.array_equal(F.T, G) == True):\n",
    "    print(\"(AB)^T = B^T A^T là đúng\")\n",
    "else:\n",
    "    print(\"(AB)^T = B^T A^T là sai\")\n",
    "\n",
    "# e)\n",
    "print(\"\\n Câu E\")\n",
    "\n",
    "C = np.random.randint(-9, 10, (4, 4))\n",
    "total = A + B @ C\n",
    "\n",
    "print(f\"Ma trận ngẫu nhiên C là: \\n {C}\")\n",
    "\n",
    "print(f\"Ma trận A + BC là: \\n {total}\")\n",
    "\n",
    "print(\"Các phần tử dưới đường chéo chính của ma trận A + BC là:\", end = \" \")\n",
    "for i in range(C.shape[0]):\n",
    "    for j in range(C.shape[1]):\n",
    "        if (i - j > 0):\n",
    "            print(total[i, j], end=\" \")\n",
    "print(\"\")\n",
    "\n",
    "# f)\n",
    "print(\"\\n Câu F\")\n",
    "\n",
    "def IsInverse(A):\n",
    "    # check if A is square and rank A = number of vector in column A\n",
    "    return (A.shape[0] == A.shape[1]) and (np.linalg.matrix_rank(A) == A.shape[0])\n",
    "\n",
    "# generate I matrix with same shape as A\n",
    "I = np.identity(A.shape[0])\n",
    "\n",
    "# we know that AC - C = B so (A - I)C = B\n",
    "# then we check if (A - I) is invertible or not, if it is then we have: C = (A - I)^-1 B\n",
    "C = np.empty(A.shape)\n",
    "if (IsInverse(A - I)):\n",
    "    inv = np.linalg.inv(A - I)\n",
    "    C = inv @ B\n",
    "print(f\"Nghiệm C của phương trình AC - C = B là: \\n {C}\")"
   ]
  },
  {
   "cell_type": "markdown",
   "id": "1ed06d90",
   "metadata": {},
   "source": [
    "### Bài 2. (2đ)\n",
    "\n",
    "Trong lĩnh vực xử lý ngôn ngữ tự nhiên $NLP$, với danh sách từ vựng $\\mathcal{L}$ độ dài $\\ell$, mỗi câu văn có thể được mô tả bởi 1 vector $v\\in\\mathbb{R}^{\\ell}$ mà thành phần thứ $i$ cho biết số lần mà từ $d_i \\in \\mathcal{L}$ xuất hiện trong câu, còn được gọi là tọa độ của câu văn trong $\\mathcal{L}$. Xét các câu văn sau đây:\n",
    "> * $D_1$: *tôi là An*.\n",
    "> * $D_2$: *tôi thích đi xem phim*.\n",
    "> * $D_3$: *An rất thích xem tôi du lịch*.\n",
    "> * $D_4$: *tôi rất rất thích đi du lịch, An là tên tôi*.\n",
    "\n",
    "Giả sử rằng $\\mathcal{L} =$ (*An, du, đi, là, lịch, phim, rất, tên, thích, tôi, xem*) với $|\\mathcal{L}| = 11$ thì chẳng hạn câu văn $D_0$ = *tôi rất thích An An* sẽ có tọa độ là $$d_0 = (2,0,0,0,0,0,1,0,1,1,0).$$\n",
    "- **a)** Viết toạ độ của các câu văn $D_1,D_2,D_3,D_4$ ở dạng vector trong không gian $11$ chiều ứng với từ vựng $\\mathcal{L}$.\n",
    "- **b)** Tính khoảng cách Euclid đôi một giữa các câu văn trên sử dụng thư viện *numpy.linalg*.\n",
    "- **c)** Ở trên ta dùng thư viện, vậy hãy cho biết công thức Toán học cụ thể để tính khoảng cách Euclid giữa hai vector bên dưới là gì:\n",
    "$$d = (x_1,x_2,...,x_{11}) \\text{ và } d' = (y_1,y_2,...,y_{11})?$$"
   ]
  },
  {
   "cell_type": "code",
   "execution_count": null,
   "id": "51315a1f",
   "metadata": {},
   "outputs": [],
   "source": [
    "#Gợi ý code mẫu\n",
    "import numpy as np\n",
    "d1 = np.array([...])\n",
    "d2 = np.array([...])\n",
    "d3 = np.array([...])\n",
    "d4 = np.array([...])\n",
    "D = np.vstack([d1,d2,d3,d4])\n",
    "l = len(D)\n",
    "for i in range(...):\n",
    "    for j in range(...):\n",
    "        print('Khoảng cách giữa d{} & d{} là'.format(i+1,j+1), round(..., 2))"
   ]
  },
  {
   "cell_type": "code",
   "execution_count": null,
   "id": "c8f420fc",
   "metadata": {},
   "outputs": [],
   "source": [
    "import numpy as np\n",
    "\n",
    "# a)\n",
    "\n",
    "# D1: tôi là An\n",
    "d1 = np.array([1, 0, 0, 1, 0, 0, 0, 0, 0, 1, 0])\n",
    "# D2: tôi thích đi xem phim\n",
    "d2 = np.array([0, 0, 1, 0, 0, 1, 0, 0, 1, 1, 1])\n",
    "# D3: An rất thích xem tôi du lịch\n",
    "d3 = np.array([1, 1, 0, 0, 1, 0, 1, 0, 1, 1, 1])\n",
    "# D4: tôi rất rất thích đi du lịch, An là tên tôi\n",
    "d4 = np.array([1, 1, 1, 1, 1, 0, 2, 1, 1, 1, 0])\n",
    "\n",
    "D = np.vstack([d1, d2, d3, d4])\n",
    "l = len(D)\n",
    "\n",
    "# b)\n",
    "for i in range(l):\n",
    "    for j in range(l):\n",
    "        print(f'Khoảng cách giữa d{i + 1} và d{j + 1} là {round(np.linalg.norm(D[i] - D[j]), 2)}')"
   ]
  },
  {
   "attachments": {},
   "cell_type": "markdown",
   "id": "93fd0715",
   "metadata": {},
   "source": [
    "c ) Cho \n",
    "$$d = (x_1,x_2,...,x_{11}) \\text{ và } d' = (y_1,y_2,...,y_{11})?$$\n",
    "\n",
    "Công thức tính khoảng cách Euclid giữa $d$ và $d'$ là:\n",
    "$$\n",
    "d(d, d') = \\sqrt{ \\sum_{i=1}^{11} (y_i - x_i)^2}\n",
    "$$"
   ]
  },
  {
   "cell_type": "markdown",
   "id": "743864c9",
   "metadata": {},
   "source": [
    "## Bài 3. (1.5 điểm) Trong hai chọn một.\n",
    "3.1) Kết quả học tập của một nhóm sinh viên ở môn **Phương pháp toán cho Trí tuệ nhân tạo** được cho trong bảng bên dưới. Sinh viên chỉ qua môn nếu điểm tổng kết không dưới $5.0$."
   ]
  },
  {
   "cell_type": "markdown",
   "id": "b2fe4308",
   "metadata": {},
   "source": [
    "|Sinh viên | BT cá nhân  | Báo cáo   | Giữa kỳ   | Cuối kỳ   |\n",
    "|----------|-------------|-----------|-----------|-----------|\n",
    "|  A       |     8       |    7      |    6      |    4      |\n",
    "|  B       |     0       |    7      |    5      |    6      |\n",
    "|  C       |     3       |    9      |    4      |    5      |\n",
    "|  D       |     7       |    8      |    3      |    5      |\n",
    "|  E       |     10      |    10     |    10     |    9      |\n",
    "|  F       |     6       |    0      |    6      |    5      |"
   ]
  },
  {
   "cell_type": "markdown",
   "id": "9a17d697",
   "metadata": {},
   "source": [
    "GV đang cân nhắc cho các điểm theo trọng số nào để có lợi cho các sinh viên nhất (ít người rớt nhất), có $3$ phương án:\n",
    "* $0.2, 0.2, 0.2, 0.4$.\n",
    "* $0.1, 0.1, 0.3, 0.5.$\n",
    "* $0.1, 0.2, 0.3, 0.4.$\n",
    "\n",
    "Hãy giúp giảng viên lựa chọn phương án thích hợp."
   ]
  },
  {
   "cell_type": "code",
   "execution_count": 16,
   "id": "e63c0a39",
   "metadata": {},
   "outputs": [
    {
     "name": "stdout",
     "output_type": "stream",
     "text": [
      "Diem theo trong so (0.1, 0.2, 0.3, 0.4) se co loi cho hoc sinh\n",
      "Diem theo trong so (0.1, 0.2, 0.3, 0.4) se co loi cho hoc sinh\n"
     ]
    }
   ],
   "source": [
    "#CODE HERE\n",
    "import numpy as np\n",
    "from typing import Tuple, List\n",
    "\n",
    "diem = np.array([[8, 7, 6, 4],\n",
    "                [0, 7, 5, 6],\n",
    "                [3, 9, 4, 5],\n",
    "                [7, 8, 3, 5],\n",
    "                [10, 10, 10, 9],\n",
    "                [6, 0, 6, 5]])\n",
    "\n",
    "A = (0.2, 0.2, 0.2, 0.4)\n",
    "B = (0.1, 0.1, 0.3, 0.5)\n",
    "C = (0.1, 0.2, 0.3, 0.4)\n",
    "D = (0.1, 0.2, 0.3, 0.4)\n",
    "\n",
    "def SoLuongSVQuaMon(diem_arr: np.ndarray, trong_so: Tuple[float]) -> int:\n",
    "    # tinh diem tong ket cua nhom sinh vien dua tren tung trong so\n",
    "    diem_sv: List[float] = []\n",
    "\n",
    "    for i in range(diem_arr.shape[0]):\n",
    "        total: float = 0\n",
    "\n",
    "        for j in range(diem_arr.shape[1]):\n",
    "            total = total + (diem_arr[i, j] * trong_so[j])\n",
    "\n",
    "        diem_sv.append(round(total, 2))\n",
    "    \n",
    "    # tinh so luong sinh vien qua mon\n",
    "    so_luong: int = 0\n",
    "\n",
    "    for i in range(len(diem_sv)):\n",
    "        if (diem_sv[i] >= 5.0):\n",
    "            so_luong = so_luong + 1\n",
    "\n",
    "    return so_luong\n",
    "\n",
    "# so luong sinh vien theo cac trong so A, B, C, D\n",
    "sl_A, sl_B, sl_C, sl_D = SoLuongSVQuaMon(diem, A), SoLuongSVQuaMon(diem, B), SoLuongSVQuaMon(diem, C), SoLuongSVQuaMon(diem, D)\n",
    "\n",
    "sl_max = max(sl_A, sl_B, sl_C, sl_D)\n",
    "\n",
    "# A la phuong an toi uu\n",
    "if (sl_A == sl_max):\n",
    "    print(f\"Diem theo trong so {A} se co loi cho hoc sinh\")\n",
    "\n",
    "# B la phuong an toi uu\n",
    "if (sl_B == sl_max):\n",
    "    print(f\"Diem theo trong so {B} se co loi cho hoc sinh\")\n",
    "\n",
    "# C la phuong an toi uu\n",
    "if (sl_C == sl_max):\n",
    "    print(f\"Diem theo trong so {C} se co loi cho hoc sinh\")\n",
    "\n",
    "# D la phuong an toi uu\n",
    "if (sl_D == sl_max):\n",
    "    print(f\"Diem theo trong so {D} se co loi cho hoc sinh\")"
   ]
  },
  {
   "cell_type": "markdown",
   "id": "4e105e1e",
   "metadata": {},
   "source": [
    "3.2) Cho bài toán sau, hãy bằng cách lập hệ phương trình thích hợp và giải bằng Python theo **ít nhất $2$ cách khác nhau**: <br>\n",
    "\n",
    "Trong đợt dịch cúm Covid-19, sinh viên của một trường Đại học có nhận được trợ cấp từ nhà trường, từ địa phương và từ hội cựu sinh viên. Khảo sát trong một lớp học có ba nhóm: đang ở quê, đang ở trọ tại TPHCM và đang ở KTX trường. Biết rằng mức tiền hỗ trợ tiền:\n",
    "* Của trường cho các nhóm trên lần lượt là: $200k, 600k, 400k$; \n",
    "* Của địa phương là: $500k, 500k, 500k$; \n",
    "* Của hội cựu sinh viên là: $0k, 700k, 300k.$\n",
    "\n",
    "Biết rằng tổng tiền mà sinh viên được từ nhà trường là $37$ triệu, từ địa phương là $50$ triệu và từ hội cựu sinh viên là $29$ triệu. Tính tổng sinh viên của lớp."
   ]
  },
  {
   "cell_type": "code",
   "execution_count": 39,
   "id": "d767b40f",
   "metadata": {},
   "outputs": [
    {
     "name": "stdout",
     "output_type": "stream",
     "text": [
      "{x: 50, y: 35, z: 15}\n",
      "[50. 35. 15.]\n"
     ]
    }
   ],
   "source": [
    "#CODE HERE\n",
    "\n",
    "tien_nt = 37000\n",
    "tien_dp = 50000\n",
    "tien_csv = 29000\n",
    "\n",
    "# ta co hpt:\n",
    "# 200x + 600y + 400z = tien_nt\n",
    "# 500x + 500y + 500z = tien_dp\n",
    "# 0x + 700y + 300z = tien_csv\n",
    "\n",
    "# Cach 1: dung sympy\n",
    "import sympy as sp\n",
    "\n",
    "x, y, z = sp.symbols('x, y, z')\n",
    "eq1 = sp.Eq(200*x + 600*y + 400*z, tien_nt)\n",
    "eq2 = sp.Eq(500*x + 500*y + 500*z, tien_dp)\n",
    "eq3 = sp.Eq(0*x + 700*y + 300*z, tien_csv)\n",
    "\n",
    "ans = sp.solve((eq1, eq2, eq3), (x, y, z))\n",
    "print(ans)\n",
    "\n",
    "# Cach 2: dung ma tran voi numpy\n",
    "import numpy as np\n",
    "\n",
    "# hpt se duoc bien doi thanh:\n",
    "# A*x = b\n",
    "# voi A = ((200, 600, 400), (500, 500, 500), (0, 700, 300))\n",
    "# b = (tien_nt, tien_dp, tien_csv)\n",
    "# va x = A^-1b\n",
    "\n",
    "A = np.array([[200, 600, 400], \n",
    "               [500, 500, 500],\n",
    "               [0, 700, 300]])\n",
    "b = np.array([tien_nt, tien_dp, tien_csv])\n",
    "\n",
    "x = np.linalg.inv(A) @ b\n",
    "print(x)"
   ]
  },
  {
   "cell_type": "markdown",
   "id": "52f80afd",
   "metadata": {},
   "source": [
    "## Bài 4. (2 điểm)\n",
    "Một thí nghiệm xét mối liên hệ giữa độ giảm trọng lượng của hợp chất ($y$, tính bằng gam) và khoảng thời gian mà hợp chất tiếp xúc với không khí ($x$, tính bằng năm), trong đó số âm có thể hiểu là giai đoạn xử lý nguyên liệu, trước khi điều chế ra hợp chất. Ta có bảng dữ liệu như sau:"
   ]
  },
  {
   "cell_type": "markdown",
   "id": "700d63d7",
   "metadata": {},
   "source": [
    "| $x$    | $-2$ | $0$   | $1$  | $2$  | $4$   |\n",
    "|--------|------|-------|------|------|-------|\n",
    "| $y$    | $-1$ | $1.5$ | $3.1$| $6.3$| $11.1$| "
   ]
  },
  {
   "cell_type": "markdown",
   "id": "143fd75c",
   "metadata": {},
   "source": [
    "- **a)** Giả sử $x,y$ thỏa mãn mô hình $y=a+bx+c \\ln(x^2+1).$ Hãy sử dụng phương pháp bình phương cực tiểu, ước lượng các tham số $a,b,c.$ <br>\n",
    "- **b)** Vẽ đồ thị cho dữ liệu. Sử dụng kết quả trên để dự đoán $y$ khi $x = 6.5$. <br>\n",
    "- **c)** Hỏi có nên dùng mô hình $y=a+bx+c \\ln(x)$ hoặc $y = a+bx+\\frac{c}{x}$ để xấp xỉ dữ liệu trên không? Vì sao?"
   ]
  },
  {
   "cell_type": "code",
   "execution_count": null,
   "id": "f10d4a30",
   "metadata": {},
   "outputs": [],
   "source": [
    "# Gợi ý code mẫu\n",
    "A = np.array([[...],[...],[...],[...],[...]])\n",
    "b = np.array([...])\n",
    "#dùng công thức tính ma trận giả nghịch đảo:\n",
    "...\n",
    "...\n",
    "...\n",
    "#code để vẽ đồ thị\n",
    "from matplotlib import pyplot as plt\n",
    "plt.plot(..., marker=\".\", color=\"red\")\n",
    "... #plot các điểm khác tương tự\n",
    "x = ...\n",
    "y = ...\n",
    "plt.plot(x,y)\n",
    "plt.show()"
   ]
  },
  {
   "cell_type": "code",
   "execution_count": 1,
   "id": "2d5f4122",
   "metadata": {},
   "outputs": [],
   "source": [
    "import numpy as np\n",
    "from scipy import optimize\n",
    "import matplotlib.pyplot as plt\n",
    "\n",
    "import math\n",
    "\n",
    "x = np.array([-2, 0, 1, 2, 4])\n",
    "y = np.array([-1, 1.5, 3.1, 6.3, 11.1])\n",
    "\n",
    "# a)\n",
    "def f(x, a, b, c):\n",
    "    return a + b*x + c*np.log(x**x + 1)\n",
    "\n",
    "# b)\n",
    "\n",
    "# c)"
   ]
  },
  {
   "cell_type": "markdown",
   "id": "e68ef7a4",
   "metadata": {},
   "source": [
    "## Bài 5. (2 điểm)\n",
    "Cho ma trận: $M=\\left( \\begin{matrix}\n",
    "   2 & a & -2  \\\\\n",
    "   0 & 3 & 0  \\\\\n",
    "   0 & 0 & 3  \\\\\n",
    "\\end{matrix} \\right)$ trong đó $a$ là tham số thực.\n",
    "* a) Cho $a=1,$ hãy chéo hóa ma trận này để thu được ma trận $D,P$ trong đó $D = P^{-1}AP$ và $D$ là ma trận đường chéo bằng cách dùng thư viện của Python (diagonalize) và kiểm chứng lại bằng việc tính toán cụ thể từng bước để tìm đa thức đặc trưng và các giá trị riêng của $M$. Từ đó hãy nêu cách tính ${{M}^{99}}$.\n",
    "* b) Ma trận chéo hóa $D$ của $M$ luôn không đổi với mọi giá trị $a$ tùy ý, hãy kiểm chứng với vài giá trị cụ thể của $a$ và giải thích lý do.\n"
   ]
  },
  {
   "cell_type": "code",
   "execution_count": null,
   "id": "12e249ec",
   "metadata": {},
   "outputs": [],
   "source": [
    "#CODE HERE"
   ]
  }
 ],
 "metadata": {
  "kernelspec": {
   "display_name": "Python 3",
   "language": "python",
   "name": "python3"
  },
  "language_info": {
   "codemirror_mode": {
    "name": "ipython",
    "version": 3
   },
   "file_extension": ".py",
   "mimetype": "text/x-python",
   "name": "python",
   "nbconvert_exporter": "python",
   "pygments_lexer": "ipython3",
   "version": "3.9.13"
  }
 },
 "nbformat": 4,
 "nbformat_minor": 5
}
