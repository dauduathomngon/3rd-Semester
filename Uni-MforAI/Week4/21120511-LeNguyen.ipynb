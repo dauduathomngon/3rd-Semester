{
 "cells": [
  {
   "attachments": {},
   "cell_type": "markdown",
   "id": "9ae044c1",
   "metadata": {},
   "source": [
    "# Đề Thực hành 4 Phương pháp toán cho Trí tuệ nhân tạo.\n",
    "### Phần: Xác suất và ứng dụng."
   ]
  },
  {
   "attachments": {},
   "cell_type": "markdown",
   "id": "74612915",
   "metadata": {},
   "source": [
    "- MSSV: 21120511\n",
    "- Họ và tên: Lê Nguyễn"
   ]
  },
  {
   "attachments": {},
   "cell_type": "markdown",
   "id": "ec621c6a",
   "metadata": {},
   "source": [
    "### Bài 1. (3 điểm)\n",
    "Khảo sát việc chọn ngành của sinh viên một lớp SV năm 2 của ĐH Khoa học tự nhiên, giáo viên chủ nhiệm có bảng bên dưới"
   ]
  },
  {
   "attachments": {},
   "cell_type": "markdown",
   "id": "b2fe4308",
   "metadata": {},
   "source": [
    "|Ngành     | Nam    | Nữ         | Tổng   |\n",
    "|----------|--------|------------|--------|\n",
    "| **Khoa học máy tính** | 10     | 15     | **25** |\n",
    "| **Kỹ thuật phần mềm** | 21     | 5      | **26** |\n",
    "| **Khoa học dữ liệu**  | 11     | 10      | **21** |\n",
    "| **Hệ thống thông tin**| 14     |   4    | **18** | "
   ]
  },
  {
   "attachments": {},
   "cell_type": "markdown",
   "id": "5180a309",
   "metadata": {},
   "source": [
    "1) Chọn ngẫu nhiên một sinh viên và biết rằng đó là sinh viên nam, tính xác suất để sinh viên đó học Khoa học máy tính.\n",
    "\n",
    "2) Chọn ngẫu nhiên hai sinh viên, tính xác suất để hai sinh viên đó cùng học ngành khoa học dữ liệu.\n",
    "   \n",
    "3) Hỏi từ bảng trên, ta có thể thực hiện phân tích tương quan theo tham số covariance giữa đại lượng: ngành học & giới tính được hay không? Vì sao?\n",
    "\n",
    "4) Giả sử thầy L chọn một sinh viên của lớp đi thi Olympic, còn thầy S lại chọn một sinh viên đi nghiên cứu khoa học (khác sinh viên ở trên). Hỏi hai biến cố thu được có độc lập nhau không? Vì sao?"
   ]
  },
  {
   "cell_type": "code",
   "execution_count": 9,
   "id": "a8489482",
   "metadata": {},
   "outputs": [
    {
     "name": "stdout",
     "output_type": "stream",
     "text": [
      "1. Xác suất chọn một sinh viên nam học Khoa học máy tính là: 0.17857142857142858\n",
      "2. Xác suất chọn 2 sinh viên cùng học Khoa học dữ liệu là: 0.052434456928838954\n"
     ]
    }
   ],
   "source": [
    "import pandas as pd\n",
    "import numpy as np\n",
    "\n",
    "import matplotlib.pyplot as plt\n",
    "\n",
    "data = pd.DataFrame(data = np.array([[10, 15], [21, 5], [11, 10], [14, 4]]),\n",
    "                    index = [\"KHMT\", \"KTPM\", \"KHDL\", \"HTTT\"],\n",
    "                    columns= [\"Nam\", \"Nữ\"])\n",
    "\n",
    "# 1.\n",
    "P_1 = data[\"Nam\"][\"KHMT\"] / sum(data[\"Nam\"])\n",
    "print(f\"1. Xác suất chọn một sinh viên nam học Khoa học máy tính là: {P_1}\")\n",
    "\n",
    "# 2.\n",
    "total_sv = sum(data[\"Nam\"] + data[\"Nữ\"])\n",
    "total_khdl = data.loc[\"KHDL\"][\"Nam\"] + data.loc[\"KHDL\"][\"Nữ\"]\n",
    "print(f\"2. Xác suất chọn 2 sinh viên cùng học Khoa học dữ liệu là: {(total_khdl * (total_khdl - 1))/(total_sv * (total_sv - 1))}\")"
   ]
  },
  {
   "attachments": {},
   "cell_type": "markdown",
   "id": "05ad916e",
   "metadata": {},
   "source": [
    "**Câu 3:**\n",
    "- Để phân tích được tương quan theo tham số covariance giữa hai đại lượng bất kì ta phải biết được kỳ vọng của từng đại lượng và kỳ vọng của cả hai đại lượng.\n",
    "- Nhưng ta không thể tìm được kỳ vọng do hai đại lượng đó có giá trị không phải là số. Vậy ta không thể phân tích tương quan theo tham số covariane giữa giới tính và ngành học.\n",
    "\n",
    "**Câu 4:**\n",
    "- Theo định nghĩa, hai biến cố độc lập nhau nếu việc biết biến cố này xảy ra hay không, không ảnh hưởng đến xác suất xảy ra của biến cố kia.\n",
    "- Đặt $A$ là biến cố thầy L chọn một sinh viên đi thi Olympic trong lớp học $n$ sinh viên.\n",
    "- Đặt $B$ là biến cố thầy S chọn một sinh viên đi thi nghiên cứu khoa học trong lớp học $n$ sinh viên.\n",
    "\n",
    "- Ta thấy nếu việc biết được biến cố $A$ (hoặc biến cố $B$) không xảy ra thì biến cố còn lại sẽ có xác suất xảy ra là $\\frac{1}{n}$.\n",
    "- Thế nhưng nếu việc biết được biến cố $A$ (hoặc biến cố $B$) xảy ra thì biến cố còn lại sẽ có xác suất xảy ra là $\\frac{1}{n-1}$.\n",
    "- Do đó việc biết được biến cố này xảy ra hay không sẽ ảnh hưởng đến xác suất xảy ra của biến cố còn lại, vì vậy hai biến cố này không độc lập với nhau."
   ]
  },
  {
   "attachments": {},
   "cell_type": "markdown",
   "id": "4e105e1e",
   "metadata": {},
   "source": [
    "### Bài 2. (2 điểm)\n",
    "1) Bằng các công thức đã biết, hãy tính kỳ vọng, phương sai, mode của đại lượng ngẫu nhiên rời rạc $X$ được cho trong bảng bên dưới."
   ]
  },
  {
   "attachments": {},
   "cell_type": "markdown",
   "id": "143f4ac3",
   "metadata": {},
   "source": [
    "|X         | 1    | 2    | 3    |  5   |   8  | 13    |  21 |\n",
    "|----------|------|------|------|-------|-------|-------|-------|\n",
    "| **P(X)** | 1/20 | 4/20 | 6/20 | 2/20  | 4/20  |  1/20 |  2/20 | "
   ]
  },
  {
   "cell_type": "code",
   "execution_count": 1,
   "id": "50b41e51",
   "metadata": {},
   "outputs": [
    {
     "name": "stdout",
     "output_type": "stream",
     "text": [
      "Kỳ vọng E(X): 6.2\n",
      "Phương sai Var(X): 32.96\n",
      "Mode của X: 3\n"
     ]
    }
   ],
   "source": [
    "import numpy as np\n",
    "\n",
    "X = np.array([1, 2, 3, 5, 8, 13, 21])\n",
    "P_X = np.array([1/20, 4/20, 6/20, 2/20, 4/20, 1/20, 2/20])\n",
    "\n",
    "# ki vong cua X\n",
    "E = np.dot(X, P_X)\n",
    "print(f\"Kỳ vọng E(X): {E}\")\n",
    "\n",
    "# phuong sai cua X\n",
    "Var = np.dot(X**2, P_X) - E**2\n",
    "print(f\"Phương sai Var(X): {Var}\")\n",
    "\n",
    "# mode cua x\n",
    "print(f\"Mode của X: {X[P_X == P_X.max()][0]}\")"
   ]
  },
  {
   "attachments": {},
   "cell_type": "markdown",
   "id": "7507e61b",
   "metadata": {},
   "source": [
    "2) Cho bảng phân phối xác suất của đại lượng ngẫu nhiên rời rạc $X$ có phương sai $Var(X)=7.3$ như bên dưới, trong đó $a,b$ là các số thực thuộc $[0;1].$ Tính kỳ vọng $E(X).$"
   ]
  },
  {
   "attachments": {},
   "cell_type": "markdown",
   "id": "c2c31d77",
   "metadata": {},
   "source": [
    "|X         | 1    | 2    | 4    | 7    |  9   |\n",
    "|----------|------|------|------|------|------|\n",
    "| **P(X)** | 0.1  | *a*  |  *b* | 0.2  |  0.2 |"
   ]
  },
  {
   "attachments": {},
   "cell_type": "markdown",
   "id": "8723ef76",
   "metadata": {},
   "source": [
    "- Đầu tiên ta có:\n",
    "$$\n",
    "\\begin{aligned}\n",
    "E[X] &= 1 \\cdot 0.1 + 2 \\cdot a + 4 \\cdot b + 7 \\cdot 0.2 + 9 \\cdot 0.2 = 2a + 4b + 3.3 \\\\\n",
    "E[X^2] &= 1^2 \\cdot 0.1 + 2^2 \\cdot a + 4^2 \\cdot b + 7^2 \\cdot 0.2 + 9^2 \\cdot 0.2 =  4a + 16b + 26.1\n",
    "\\end{aligned}\n",
    "$$\n",
    "\n",
    "- Tiếp theo ta có:\n",
    "$$\n",
    "\\begin{aligned}\n",
    "Var[X] &= E[X^2] - (E[X])^2 \\\\\n",
    "&= 4a + 16b + 26.1 - (2a + 4b + 3.3)^2 \\\\\n",
    "&= 4a + 16b + 26.1 - (4a^2 + 16b^2 + 10.89 + 16ab + 13.2a + 26.4b) \\\\\n",
    "&= -4a^2 - 16b^2 - 16ab -9.2a -10.4b + 15.21 \\\\\n",
    "&= 7.3\n",
    "\\end{aligned}\n",
    "$$\n",
    "\n",
    "- Mà:\n",
    "$$\n",
    "0.1 + a + b + 0.2 + 0.2 = 1 \\implies a + b = 0.5\n",
    "$$ \n",
    "\n",
    "- Vì vậy ta cần giải hệ phương trình:\n",
    "$$\n",
    "\\begin{cases}\n",
    "a + b = 0.5 \\\\\n",
    "-4a^2 - 16b^2 - 16ab -9.2a -10.4b + 15.21 = 7.3 \\\\\n",
    "\\end{cases}\n",
    "$$\n",
    "\n",
    "- Cuối cùng ta sẽ dùng sympy để giải và tìm nghiệm của hệ phương trình."
   ]
  },
  {
   "cell_type": "code",
   "execution_count": 7,
   "id": "de33d3a6",
   "metadata": {},
   "outputs": [
    {
     "name": "stdout",
     "output_type": "stream",
     "text": [
      "a = 0.15 và b = 0.35\n",
      "Kỳ vọng cần tìm là: 5\n"
     ]
    }
   ],
   "source": [
    "import sympy as sp\n",
    "import numpy as np\n",
    "from typing import List\n",
    "\n",
    "# tìm a, b\n",
    "x, y = sp.symbols('x, y')\n",
    "\n",
    "f1 = sp.Eq(x + y, 0.5) # a + b = 0.5\n",
    "f2 = sp.Eq(-4*(x**2) - 16*(y**2) - 16*x*y - 9.2*x - 10.4*y + 15.21, 7.3)\n",
    "\n",
    "def Solve(f1, f2) -> List[float]:\n",
    "    ans = sp.solve((f1, f2), (x, y))\n",
    "\n",
    "    result = []\n",
    "    for i, j in ans:\n",
    "        if (0 <= i <= 1) and (0 <= j <= 1):\n",
    "            result = result + [i, j]\n",
    "\n",
    "    return result\n",
    "\n",
    "a, b = Solve(f1, f2)\n",
    "\n",
    "print(f\"a = {round(a, 2)} và b = {round(b, 2)}\")\n",
    "\n",
    "# tìm kỳ vọng\n",
    "X = np.array([1, 2, 4, 7, 9])\n",
    "P_X = np.array([0.1, x, y, 0.2, 0.2])\n",
    "\n",
    "f3 = np.dot(X, P_X)\n",
    "\n",
    "print(f\"Kỳ vọng cần tìm là: {round(f3.subs({x: a, y: b}))}\")"
   ]
  },
  {
   "attachments": {},
   "cell_type": "markdown",
   "id": "f6c12366",
   "metadata": {},
   "source": [
    "### Bài 3. (2.5 điểm, mỗi ý 0.25đ, làm đúng hết thì +0.25đ)\n",
    "Hãy giải quyết các tình huống sau đây, sử dụng các thư viện xác suất của Python (trình bày ngắn gọn):"
   ]
  },
  {
   "attachments": {},
   "cell_type": "markdown",
   "id": "11e8e8d2",
   "metadata": {},
   "source": [
    "1. Tỷ lệ sút bóng penalty thành công của cầu thủ Minh Đạt là $0.7.$ Trong lúc luyện tập trước mùa giải sinh viên ngành AI, Đạt đã tập sút tất cả $16$ lần và ký hiệu $X$ là số lần bạn đã sút thành công. <br>\n",
    " - Hãy xác định loại phân bố xác suất của $X$ và tính kỳ vọng, phương sai của $X$. \n",
    " - Tính xác suất để Đạt sút thành công đúng $12$ lần.\n",
    " - Tính xác suất để Đạt sút thành công không quá $10$ lần."
   ]
  },
  {
   "attachments": {},
   "cell_type": "markdown",
   "id": "10e5e839",
   "metadata": {},
   "source": [
    "#### Bài làm\n",
    "\n",
    "Do việc sút Penalty chỉ có 2 khả năng là vào hoặc không vào nên ta sẽ chọn phân bố xác suất cho $X$ là phân phối nhị thức với $n$ là số lần sút, vậy $n = 16$ và $p$ là xác suất thành công, vậy $p = 0.7$.\n",
    "$$\n",
    "X \\sim B(16, 0.7)\n",
    "$$"
   ]
  },
  {
   "cell_type": "code",
   "execution_count": 23,
   "id": "5baf24e4",
   "metadata": {},
   "outputs": [
    {
     "name": "stdout",
     "output_type": "stream",
     "text": [
      "Kỳ vọng của X là: 11.2\n",
      "Phương sai của X là: 3.3600000000000003\n",
      "Xác suất Đạt sút thành công đúng 12 lần là: 0.20404825591714243\n",
      "Xác suất Đạt sút thành công không quá 10 lần là: 0.34021767408889236\n"
     ]
    }
   ],
   "source": [
    "from scipy.stats import binom\n",
    "\n",
    "n, p = 16, 0.7\n",
    "\n",
    "mean, var = binom.stats(n, p)\n",
    "\n",
    "print(f\"Kỳ vọng của X là: {mean}\")\n",
    "print(f\"Phương sai của X là: {var}\")\n",
    "print(f\"Xác suất Đạt sút thành công đúng 12 lần là: {binom.pmf(12, n, p)}\")\n",
    "\n",
    "# Do sút thành công không quá 10 lần, nghĩa là P(X <= 10) do đó ta sẽ dùng cdf của binom\n",
    "print(f\"Xác suất Đạt sút thành công không quá 10 lần là: {binom.cdf(10, n, p)}\")"
   ]
  },
  {
   "attachments": {},
   "cell_type": "markdown",
   "id": "e4a851a3",
   "metadata": {},
   "source": [
    "2. Để hoàn tất hồ sơ xin việc, anh Lê Nguyễn cần thi đạt chứng chỉ lái xe B1. Giả sử xác suất thi đậu của anh Lê Nguyễn là $0.83$ và anh sẽ thi đến khi nào đậu thì thôi. Gọi $X$ là số lần thi của anh ấy. <br>\n",
    " - Hãy xác định loại phân bố xác suất của $X$ và tính kỳ vọng, phương sai của $X$.\n",
    " - Tính xác suất để anh Nguyễn thi đậu ngay lần đầu tiên.\n",
    " - Tính xác suất để anh Nguyễn thi đậu sau ít nhất $4$ lần."
   ]
  },
  {
   "attachments": {},
   "cell_type": "markdown",
   "id": "29b505af",
   "metadata": {},
   "source": [
    "#### Bài làm\n",
    "\n",
    "Ta có thể thấy anh Lê Nguyễn thực hiện liên tục cho đến khi nào thành công thì phân bố xác suất hợp lý nhất sẽ là phân phối hình học. Ta xem $p$ là xác suất thành công, vậy $p = 0.83$ và:\n",
    "$$\n",
    "X \\sim \\text{Geo}(0.83)\n",
    "$$"
   ]
  },
  {
   "cell_type": "code",
   "execution_count": 22,
   "id": "a978cee4",
   "metadata": {},
   "outputs": [
    {
     "name": "stdout",
     "output_type": "stream",
     "text": [
      "Kỳ vọng của X là: 1.2048192771084338\n",
      "Phương sai của X là: 0.24677021338365518\n",
      "Xác suất để anh Nguyễn thi đậu ngay lần đầu tiên là: 0.83\n",
      "Xác suất để anh Nguyễn thi đậu sau ít nhất 4 lần là: 0.004913000000000056 \n"
     ]
    }
   ],
   "source": [
    "from scipy.stats import geom\n",
    "\n",
    "p = 0.83\n",
    "\n",
    "mean, var = geom.stats(p)\n",
    "\n",
    "print(f\"Kỳ vọng của X là: {mean}\")\n",
    "print(f\"Phương sai của X là: {var}\")\n",
    "\n",
    "# thi đậu ngay lần đầu tiên tức là P(X = 1)\n",
    "print(f\"Xác suất để anh Nguyễn thi đậu ngay lần đầu tiên là: {geom.pmf(1, p)}\")\n",
    "\n",
    "# thi đậu sau ít nhất 4 lần nghĩa là P(X >= 4) = 1 - P(X < 4) = 1 - P(X <= 3)\n",
    "print(f\"Xác suất để anh Nguyễn thi đậu sau ít nhất 4 lần là: {1 - geom.cdf(3, p)} \")"
   ]
  },
  {
   "attachments": {},
   "cell_type": "markdown",
   "id": "0125d827",
   "metadata": {},
   "source": [
    "3. Mỗi buổi trưa, quán Cơm gà xối mỡ của làng ĐH bận rộn phục vụ các sinh viên và trung bình cứ $1$ phút thì có $2$ sinh viên vào ăn. Giả sử các sinh viên xuất hiện ngẫu nhiên độc lập với nhau và gọi $X$ là số sinh viên đến quán. <br>\n",
    " - Hãy xác định loại phân bố xác suất phù hợp nhất của $X$ và tính kỳ vọng, phương sai của $X$.\n",
    " - Xác suất để trong $1$ phút $30$ giây, không có sinh viên nào đến ăn.\n",
    " - Xác suất để trong $15$ phút, quán cơm có phục vụ cho $20$ đến $25$ sinh viên."
   ]
  },
  {
   "attachments": {},
   "cell_type": "markdown",
   "id": "0e289aa0",
   "metadata": {},
   "source": [
    "#### Bài làm\n",
    "\n",
    "Do ta muốn tìm hiểu xem xác suất của số sinh viên đến quán trong khoảng thời gian nhất định nên phân bố xác suất phù hợp nhất chính là phân phối Poisson. Vậy:\n",
    "$$\n",
    "X \\sim \\text{Pois}(\\lambda)\n",
    "$$\n",
    "\n",
    "Do không xét trong một khoảng thời gian nên $\\lambda$ chính là số sinh viên đến ăn 1 phút, do đó $\\lambda = 2$. Mà $X$ có phân phối Poisson, vậy:\n",
    "$$\n",
    "E[X] = Var[X] = \\lambda = 2\n",
    "$$"
   ]
  },
  {
   "cell_type": "code",
   "execution_count": 3,
   "id": "3e05ff4e",
   "metadata": {},
   "outputs": [
    {
     "name": "stdout",
     "output_type": "stream",
     "text": [
      "Xác suất để trong 1 phút 30 giây không có sinh viên nào đến ăn là: 0.049787068367863944 \n",
      "Xác suất để trong 15 phút, quán cơm phục vụ từ 20 đến 25 sinh viên là: 0.18648389622594205\n"
     ]
    }
   ],
   "source": [
    "from scipy.stats import poisson\n",
    "\n",
    "r = 2\n",
    "\n",
    "# Cứ mỗi 1 phút sẽ có 2 sinh viên vào ăn thì ta kỳ vọng trong 1 phút 30 giây sẽ có 2 * 1.5 = 3 sinh viên vào ăn, vậy lambda = 3\n",
    "print(f\"Xác suất để trong 1 phút 30 giây không có sinh viên nào đến ăn là: {poisson.pmf(0, r*1.5)} \")\n",
    "\n",
    "# Cứ mỗi 1 phút sẽ có 2 sinh viên thì ta kỳ vọng trong 15 phút sẽ có 2 * 15 = 30 sinh viên, vậy lambda = 30\n",
    "# Xác suất phục vụ từ 20 đến 25 tức là P(20 <= X <= 25) = P(X <= 25) - P(X < 20) = P(X <= 25) - P(X <= 19)\n",
    "print(f\"Xác suất để trong 15 phút, quán cơm phục vụ từ 20 đến 25 sinh viên là: {poisson.cdf(25, r*15) - poisson.cdf(19, r*15)}\")"
   ]
  },
  {
   "attachments": {},
   "cell_type": "markdown",
   "id": "405e4cb5",
   "metadata": {},
   "source": [
    "### Bài 4. (1.5 điểm)\n",
    "Cho vector ngẫu nhiên rời rạc $(X,Y)$ có bảng phân bố xác suất như bên dưới ($\\Omega_X = \\{1,4\\}, \\Omega_Y = \\{1,3,5\\}$). Hãy trả lời các câu hỏi sau"
   ]
  },
  {
   "attachments": {},
   "cell_type": "markdown",
   "id": "d71ca9bc",
   "metadata": {},
   "source": [
    "|X & Y     | 1    | 3     | 5    |\n",
    "|----------|------|-------|------|\n",
    "| **1**    | 0.15 | 0.25   | 0.1 | \n",
    "| **4**    | 0.05  | 0.3   | 0.15  |"
   ]
  },
  {
   "attachments": {},
   "cell_type": "markdown",
   "id": "61cfd51b",
   "metadata": {},
   "source": [
    "1) Tính các phân phối lề theo từng biến. Từ đó tính $P(X=4 | Y = 3).$ <br>\n",
    "\n",
    "2) Tính $cov(X,Y)$ và hệ số tương quan giữa $X,Y$ bằng các thư viện thích hợp. Từ đó cho biết $X,Y$ có độc lập không? <br>"
   ]
  },
  {
   "cell_type": "code",
   "execution_count": 1,
   "id": "b6883c9d",
   "metadata": {},
   "outputs": [
    {
     "name": "stdout",
     "output_type": "stream",
     "text": [
      "1.\n",
      "Phân phối lề của X là: [0.5 0.5]\n",
      "Phân phối lề của Y là: [0.2  0.55 0.25]\n",
      "P(X = 4 | Y = 3) = 0.5454545454545454\n",
      "2.\n",
      "E[X] = 2.5\n",
      "E[Y] = 3.1\n",
      "E[XY] = 8.2\n",
      "Cov(X, Y) = 0.45\n",
      "Do Cov(X, Y) khác không nên X và Y không độc lập với nhau\n",
      "Corr(X, Y) = 0.22\n"
     ]
    }
   ],
   "source": [
    "import numpy as np\n",
    "import pandas as pd\n",
    "from math import sqrt\n",
    "\n",
    "data = pd.DataFrame(data = np.array([[0.15, 0.25, 0.1], [0.05, 0.3, 0.15]]), \n",
    "                    index = [1, 4], \n",
    "                    columns = [1, 3, 5])\n",
    "\n",
    "p_y = data.sum(0) # phân phối lề của y\n",
    "p_x = data.sum(1) # phân phối lề của x\n",
    "\n",
    "# Câu 1\n",
    "print(\"1.\")\n",
    "print(f\"Phân phối lề của X là: {p_x.values}\")\n",
    "print(f\"Phân phối lề của Y là: {p_y.values}\")\n",
    "\n",
    "# ta có P(X = 4 | Y = 3) = P(X = 4, Y = 3) / P(Y = 3)\n",
    "print(f\"P(X = 4 | Y = 3) = {data[3][4] / p_y[3]}\")\n",
    "\n",
    "# Câu 2\n",
    "print(\"2.\")\n",
    "\n",
    "E_x = sum(data.index.T @ data)\n",
    "E_y = sum(data @ data.columns)\n",
    "E_xy = data.index.T @ data @ data.columns\n",
    "# E_x = np.dot(data.index.T, p_x)\n",
    "# E_y = np.dot(p_y, data.columns)\n",
    "\n",
    "print(f\"E[X] = {E_x}\")\n",
    "print(f\"E[Y] = {round(E_y, 2)}\")\n",
    "print(f\"E[XY] = {E_xy}\")\n",
    "\n",
    "Cov_xy = E_xy - (E_x * E_y)\n",
    "print(f\"Cov(X, Y) = {round(Cov_xy, 2)}\")\n",
    "print(f\"Do Cov(X, Y) khác không nên X và Y không độc lập với nhau\")\n",
    "\n",
    "E_x2 = sum((data.index ** 2).T @ data)\n",
    "E_y2 = round(sum(data @ (data.columns ** 2)), 2)\n",
    "\n",
    "# Phương sai\n",
    "Var_x = E_x2 - E_x**2\n",
    "Var_y = E_y2 - E_y**2\n",
    "\n",
    "# Độ lệch chuẩn\n",
    "Sd_x = sqrt(Var_x)\n",
    "Sd_y = sqrt(Var_y)\n",
    "\n",
    "print(f\"Corr(X, Y) = {round(Cov_xy / (Sd_x * Sd_y),2)}\")"
   ]
  },
  {
   "attachments": {},
   "cell_type": "markdown",
   "id": "90507bef",
   "metadata": {},
   "source": [
    "### Bài 5. (1 điểm) Trong hai chọn một.\n",
    "1) Một SV tham gia thi hai kỳ thi *TOEIC Nghe - Đọc* và *TOEIC Nói - Viết* để lấy chứng chỉ xét tốt nghiệp. Biết rằng:\n",
    "- Xác suất để đủ điểm Nghe - Đọc là $3/5.$ \n",
    "- Nếu đủ điểm Nghe - Đọc thì xác suất SV đó đủ điểm Nói - Viết là $4/5$. \n",
    "- Nếu Nghe - Đọc không đủ điểm thì xác suất SV đó đủ điểm Nói - Viết là $2/5.$\n",
    "\n",
    "Gọi $X$ là biến ngẫu nhiên cho biết số kỳ thi mà SV đó có thể đủ điểm. Tìm phân bố xác suất của $X$.\n",
    "\n",
    "2) Phân phối nhị thức âm (negative binomial distribution) với tham số $r, p$ có thể xem là một dạng mở rộng của phân phối hình học, trong đó biến ngẫu nhiên $X$ là số lần thử (với xác suất thành công là $p$) cần để đạt được $r$ lần thành công. Ở phân phối hình học thì $r=1.$ Khi đó: $X \\sim Neg(r,p)$ thì $$f(X=k) = C_{k - 1}^{r-1} \\cdot p^r \\cdot (1-p)^{k-r}.$$\n",
    "\n",
    "Hãy giải bài toán sau đây: Một người đánh cờ có xác suất thắng là $p > 0.5$, biết rằng người này chơi đến khi nào đạt được $10$ trận thắng thì thôi. Biết rằng xác suất để người này đánh đến ván $20$ là $0.0154$, tìm $p$."
   ]
  },
  {
   "attachments": {},
   "cell_type": "markdown",
   "id": "7d17cdc2",
   "metadata": {},
   "source": [
    "#### Bài 1\n",
    "\n",
    "- Đặt $A$ là biến cố mà sinh viên đủ điểm Nghe - Đọc, ta có $\\mathbb{P}(A) = 3/5$. Vậy xác suất mà sinh viên không đủ điểm Nghe-Đọc là $\\mathbb{P}(A^c) = 1 - \\mathbb{P}(A) = 2/5$.\n",
    "\n",
    "- Đặt $B$ là biến cố mà sinh viên đủ điểm Nói - Viết, theo đề bài ta có:\n",
    "$$\n",
    "\\begin{aligned}\n",
    "\\mathbb{P}(B \\mid A) &= 4/5 \\\\\n",
    "\\mathbb{P}(B \\mid A^c) &= 2/5 \\\\\n",
    "\\end{aligned}\n",
    "$$\n",
    "\n",
    "- Ta thấy $A \\cap A^c = \\emptyset$ (xung khắc với nhau) và $A \\cup A^c = \\Omega$ (không gian mẫu), do đó $\\{A, A^c\\}$ là một phân hoạch của $\\Omega$. Vậy áp dụng công thức xác suất đầy đủ, ta được:\n",
    "$$\n",
    "\\begin{aligned}\n",
    "\\mathbb{P}(B) &= \\mathbb{P}(B \\mid A)\\mathbb{P}(A) + \\mathbb{P}(B \\mid A^c)\\mathbb{P}(A^c) \\\\\n",
    "&= (4/5)(3/5) + (2/5)(2/5) = 16/25\n",
    "\\end{aligned}\n",
    "$$\n",
    "\n",
    "- Đặt $X$ là biến ngẫu nhiên đặc trưng cho số kì thi mà sinh viên có thể đủ điểm, ta thấy $X$ sẽ nhận các giá trị là $0$ (không kì thi nào đủ điểm), là $1$ (1 trong 2 đủ điểm) và $2$ (cả 2 đều đủ điểm).\n",
    "\n",
    "- Với xác suất của $X = 2$, ta có:\n",
    "$$\n",
    "\\begin{aligned}\n",
    "\\mathbb{P}(X = 2) &= \\mathbb{P}(A \\cap B) = \\mathbb{P}(B \\mid A)\\mathbb{P}(A) = (4/5)(3/5) = 12/25 \\\\\n",
    "\\end{aligned}\n",
    "$$\n",
    "\n",
    "- Với xác suất của $X = 1$, ta xét:\n",
    "$$\n",
    "\\begin{aligned}\n",
    "\\mathbb{P}(1 \\leq X \\leq 2) &= \\mathbb{P}(A \\cup B) = \\mathbb{P}(A) + \\mathbb{P}(B) - \\mathbb{P}(A \\cap B) =  19/25\\\\\n",
    "\\text{mà} \\hspace{5pt} \\mathbb{P}(1 \\leq X \\leq 2) &= \\mathbb{P}(X = 2) + \\mathbb{P}(X = 1) = 19/25 \\\\\n",
    "\\implies \\hspace{5pt} \\mathbb{P}(X = 1) &= 19/25 - 12/25 = 7/25\n",
    "\\end{aligned}\n",
    "$$\n",
    "\n",
    "- Với xác suất của $X = 0$, ta có:\n",
    "$$\n",
    "\\mathbb{P}(X = 0) = 1 - \\mathbb{P}(1 \\leq X \\leq 2) = 1 - (19/25) = 6/25 \n",
    "$$\n",
    "\n",
    "- Vậy phân bố xác suất của $X$ là bảng dưới đây:\n"
   ]
  },
  {
   "attachments": {},
   "cell_type": "markdown",
   "id": "53cbf4ec",
   "metadata": {},
   "source": [
    "| $X$             | 0    | 1    | 2     |\n",
    "| -------------   | ---  | ---  | ---   |\n",
    "| $\\mathbb{P}(X)$ | $\\dfrac{6}{25}$ | $\\dfrac{7}{25}$ | $\\dfrac{12}{25}$ |"
   ]
  },
  {
   "attachments": {},
   "cell_type": "markdown",
   "id": "030acde1",
   "metadata": {},
   "source": [
    "#### Bài 2\n",
    "\n",
    "- Đặt $X$ là số lần thử để người đánh cờ được 10 trận thắng. Ta có $X \\sim Neg(10, p)$, vậy:\n",
    "$$\n",
    "\\mathbb{P}(X = k) = \\binom{k-1}{9} p^{10} (1-p)^{k - 10}\n",
    "$$\n",
    "\n",
    "- Theo đề bài ta có phương trình (1):\n",
    "$$\n",
    "\\mathbb{P}(X = 20) = \\binom{19}{9} p^{10} (1-p)^{10} = 0.0154\n",
    "$$"
   ]
  },
  {
   "cell_type": "code",
   "execution_count": 2,
   "id": "5890d6d8",
   "metadata": {},
   "outputs": [
    {
     "name": "stdout",
     "output_type": "stream",
     "text": [
      "Xác suất p cần tìm là: 0.700029104175818\n"
     ]
    }
   ],
   "source": [
    "# Đầu tiên ta có thể nhờ sự hỗ trợ của Sympy để giải phương trình trên\n",
    "import sympy\n",
    "\n",
    "k = 20\n",
    "r = 10\n",
    "\n",
    "x = sympy.Symbol('x', real = True)\n",
    "\n",
    "f = sympy.Eq(sympy.binomial(k-1, r-1)*(x**(r))*((1-x)**(k - r)), 0.0154)\n",
    "\n",
    "result = sympy.solve(f)\n",
    "\n",
    "for i in result:\n",
    "    if (0.5 < i <= 1.0):\n",
    "        print(f\"Xác suất p cần tìm là: {i}\")"
   ]
  },
  {
   "attachments": {},
   "cell_type": "markdown",
   "id": "ee1d7661",
   "metadata": {},
   "source": [
    "- Ở cách 2 ta sẽ giải tìm nghiệm của phương trình (1), đặt $(p - p^2)^5 = y$, ta có:\n",
    "$$\n",
    "\\begin{aligned}\n",
    "\\binom{19}{9} p^{10} (1-p)^{10} &= 0.0154 \\\\\n",
    "92378 \\cdot (p(1-p))^{10} &= 0.0154 \\\\\n",
    "((p - p^2)^5)^2 &= 0.0154 \\cdot \\frac{1}{92378} \\\\\n",
    "\\implies \\hspace{10pt} y^2 &= 0.0154 \\cdot \\frac{1}{92378}\n",
    "\\end{aligned}\n",
    "$$\n",
    "\n",
    "- Vậy $y$ có 2 nghiệm là:\n",
    "$$\n",
    "\\begin{cases}\n",
    "y = (p - p^2)^5 &= \\sqrt{0.0154 \\cdot \\frac{1}{92378}} \\approx 0.0004083 \\hspace{10pt} (2) \\\\\n",
    "y = (p - p^2)^5 &= -\\sqrt{0.0154 \\cdot \\frac{1}{92378}} \\approx -0.0004083 \\hspace{10pt} (3)\n",
    "\\end{cases}\n",
    "$$\n",
    "\n",
    "- Giải phương trình (2), ta được:\n",
    "$$\n",
    "\\begin{aligned}\n",
    "p - p^2 &= \\sqrt[5]{0.004083} \\approx 0.2099887 \\\\\n",
    "&\\implies \\begin{cases}\n",
    "p \\approx 1.17822467 \\\\\n",
    "p \\approx -0.17822467\n",
    "\\end{cases}\n",
    "\\end{aligned}\n",
    "$$\n",
    "\n",
    "- Giải phương trình (3), ta được:\n",
    "$$\n",
    "\\begin{aligned}\n",
    "p - p^2 &= \\sqrt[5]{-0.004083} \\approx -0.2099887 \\\\\n",
    "&\\implies \\begin{cases}\n",
    "p \\approx 0.7 \\\\\n",
    "p \\approx 0.299972 \\\\\n",
    "\\end{cases}\n",
    "\\end{aligned}\n",
    "$$\n",
    "\n",
    "- Do $0.5 < p \\leq 1$ nên $p = 0.7$ thoả mãn đề bài. Vậy xác suất một người đánh cờ thằng là $0.7$."
   ]
  }
 ],
 "metadata": {
  "kernelspec": {
   "display_name": "Python 3 (ipykernel)",
   "language": "python",
   "name": "python3"
  },
  "language_info": {
   "codemirror_mode": {
    "name": "ipython",
    "version": 3
   },
   "file_extension": ".py",
   "mimetype": "text/x-python",
   "name": "python",
   "nbconvert_exporter": "python",
   "pygments_lexer": "ipython3",
   "version": "3.10.9"
  }
 },
 "nbformat": 4,
 "nbformat_minor": 5
}
