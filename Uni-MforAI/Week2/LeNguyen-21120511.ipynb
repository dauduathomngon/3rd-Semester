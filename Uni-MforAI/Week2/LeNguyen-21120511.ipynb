{
 "cells": [
  {
   "cell_type": "markdown",
   "id": "9ae044c1",
   "metadata": {},
   "source": [
    "# Đề Thực hành 2 Phương pháp toán cho Trí tuệ nhân tạo.\n",
    "## Khoa CNTT - trường ĐH KHTN TPHCM."
   ]
  },
  {
   "cell_type": "markdown",
   "id": "170b99de",
   "metadata": {},
   "source": [
    "Tên: Lê Nguyễn\n",
    "\n",
    "MSSV: 21120511"
   ]
  },
  {
   "cell_type": "markdown",
   "id": "ec621c6a",
   "metadata": {},
   "source": [
    "## Bài 1. (3 điểm)\n",
    "Cho hai ma trận sau đây"
   ]
  },
  {
   "cell_type": "markdown",
   "id": "a0cec2e0",
   "metadata": {},
   "source": [
    "$$A=\\left( \\begin{matrix}\n",
    "   1 & 0 & 2 & a  \\\\\n",
    "   1 & 2 & 4 & b  \\\\\n",
    "   -1 & 2 & 0 & c  \\\\\n",
    "   3 & -1 & 3 & d  \\\\\n",
    "\\end{matrix} \\right), B=\\left( \\begin{matrix}\n",
    "   4 & 5 & 1 & -2  \\\\\n",
    "   0 & 1 & 2 & 1  \\\\\n",
    "   0 & -2 & -3 & 1  \\\\\n",
    "   a & b & c & d  \\\\\n",
    "\\end{matrix} \\right)$$\n",
    "trong đó $a,b,c,d$ là $4$ số cuối trong $MSSV$ (viết theo thứ tự từ trái sang phải). Khi làm bài, $SV$ chủ động thay các mã số đó vào đề bài trên."
   ]
  },
  {
   "cell_type": "markdown",
   "id": "4e90594a",
   "metadata": {},
   "source": [
    "Bằng cách dùng các thư viện có hỗ trợ sẵn của Python, hãy thực hiện các yêu cầu sau:\n",
    "* a) Tính $B+A$, $B{{A}^{T}}$, $2A-3B$.\n",
    "* b) Tính $\\det (A)$ , $\\det ({{B}^{T}}+2I)$, $rank(AB).$ \n",
    "* c) Tính norm của vector hàng $1$ của $A,$ tính norm của vector cột $3$ của $B,$ tính tổng các phần tử trên đường chéo của $A.$\n",
    "* d) Kiểm tra công thức ${{(AB)}^{T}}={{B}^{T}}{{A}^{T}}$ dựa trên hai ma trận đã cho.\n",
    "* e) Sinh ngẫu nhiên một ma trận $C$ có kích thước $4\\times 4$ với các phần tử là số nguyên trong miền từ $-9\\to 9$, từ đó in ra các phần tử nằm phía dưới đường chéo của $A+BC.$ \n",
    "* f) Tìm ma trận $C$ thỏa mãn $AC - C = B$. *Gợi ý:* $C = CI = IC$ với $I$ là ma trận đơn vị."
   ]
  },
  {
   "cell_type": "code",
   "execution_count": 1,
   "id": "2b658fa8",
   "metadata": {},
   "outputs": [],
   "source": [
    "#CODE HERE (mỗi câu hỏi làm trên một cell riêng)\n",
    "import numpy as np\n",
    "\n",
    "A: np.ndarray = np.array([[1, 0, 2, 0],\n",
    "                         [1, 2, 4, 5],\n",
    "                         [-1, 2, 0, 1],\n",
    "                         [3, -1, 3, 1]])\n",
    "B: np.ndarray = np.array([[4, 5, 1, -2],\n",
    "                          [0, 1, 2, 1],\n",
    "                          [0, -2, -3 ,1],\n",
    "                          [0, 5, 1, 1]])"
   ]
  },
  {
   "cell_type": "code",
   "execution_count": 3,
   "id": "6e53bd58",
   "metadata": {},
   "outputs": [
    {
     "name": "stdout",
     "output_type": "stream",
     "text": [
      "Câu A:\n",
      "ma trận B + A: \n",
      " [[ 5  5  3 -2]\n",
      " [ 1  3  6  6]\n",
      " [-1  0 -3  2]\n",
      " [ 3  4  4  2]]\n",
      "ma trận BA^T: \n",
      " [[  6   8   4   8]\n",
      " [  4  15   3   6]\n",
      " [ -6 -11  -3  -6]\n",
      " [  2  19  11  -1]]\n",
      "ma trận 2A - 3B: \n",
      " [[-10 -15   1   6]\n",
      " [  2   1   2   7]\n",
      " [ -2  10   9  -1]\n",
      " [  6 -17   3  -1]]\n"
     ]
    }
   ],
   "source": [
    "# a)\n",
    "print(\"Câu A:\")\n",
    "print(f\"ma trận B + A: \\n {B + A}\")\n",
    "print(f\"ma trận BA^T: \\n {B @ A.T}\")\n",
    "print(f\"ma trận 2A - 3B: \\n {2*A - 3*B}\")"
   ]
  },
  {
   "cell_type": "code",
   "execution_count": 4,
   "id": "1785687d",
   "metadata": {},
   "outputs": [
    {
     "name": "stdout",
     "output_type": "stream",
     "text": [
      "\n",
      " Câu B:\n",
      "det(A) = -16.000000000000007\n",
      "det(B^T + 2I) = 77.99999999999993\n",
      "rank(AB) = 4\n"
     ]
    }
   ],
   "source": [
    "# b)\n",
    "print(\"\\n Câu B:\")\n",
    "\n",
    "print(f\"det(A) = {np.linalg.det(A)}\")\n",
    "\n",
    "# np.identity(B.shape[0]) will generate matrix I with have column same as B\n",
    "E = B.T + 2 * np.identity(B.shape[0])\n",
    "print(f\"det(B^T + 2I) = {np.linalg.det(E)}\")\n",
    "\n",
    "print(f\"rank(AB) = {np.linalg.matrix_rank(A @ B)}\")"
   ]
  },
  {
   "cell_type": "code",
   "execution_count": 5,
   "id": "441e83bb",
   "metadata": {},
   "outputs": [
    {
     "name": "stdout",
     "output_type": "stream",
     "text": [
      "\n",
      " Câu C:\n",
      "Norm của vector hàng 1 của A: 2.23606797749979\n",
      "Norm của vector cột 3 của A: 3.872983346207417\n"
     ]
    }
   ],
   "source": [
    "# c)\n",
    "print(\"\\n Câu C:\")\n",
    "\n",
    "normRow1A = np.linalg.norm(A[0])\n",
    "print(f\"Norm của vector hàng 1 của A: {normRow1A}\")\n",
    "\n",
    "normCol3B = np.linalg.norm(B[:,2])\n",
    "print(f\"Norm của vector cột 3 của A: {normCol3B}\")"
   ]
  },
  {
   "cell_type": "code",
   "execution_count": 6,
   "id": "2848482f",
   "metadata": {},
   "outputs": [
    {
     "name": "stdout",
     "output_type": "stream",
     "text": [
      "\n",
      " Câu D:\n",
      "(AB)^T = B^T A^T là đúng\n"
     ]
    }
   ],
   "source": [
    "# d)\n",
    "print(\"\\n Câu D:\")\n",
    "\n",
    "F = A @ B\n",
    "G = B.T @ A.T\n",
    "if (np.array_equal(F.T, G) == True):\n",
    "    print(\"(AB)^T = B^T A^T là đúng\")\n",
    "else:\n",
    "    print(\"(AB)^T = B^T A^T là sai\")\n"
   ]
  },
  {
   "cell_type": "code",
   "execution_count": 8,
   "id": "d0bcd173",
   "metadata": {},
   "outputs": [
    {
     "name": "stdout",
     "output_type": "stream",
     "text": [
      "\n",
      " Câu E\n",
      "Ma trận ngẫu nhiên C là: \n",
      " [[-4 -6  8  3]\n",
      " [ 2  4  7  8]\n",
      " [ 4 -2  2  4]\n",
      " [-4  6 -2 -8]]\n",
      "Ma trận A + BC là: \n",
      " [[  7 -18  75  72]\n",
      " [  7   8  13  13]\n",
      " [-21   6 -22 -35]\n",
      " [ 13  23  38  37]]\n",
      "Các phần tử dưới đường chéo chính của ma trận A + BC là: 7 -21 6 13 23 38 \n"
     ]
    }
   ],
   "source": [
    "# e)\n",
    "print(\"\\n Câu E\")\n",
    "\n",
    "C = np.random.randint(-9, 10, (4, 4))\n",
    "total = A + B @ C\n",
    "\n",
    "print(f\"Ma trận ngẫu nhiên C là: \\n {C}\")\n",
    "\n",
    "print(f\"Ma trận A + BC là: \\n {total}\")\n",
    "\n",
    "print(\"Các phần tử dưới đường chéo chính của ma trận A + BC là:\", end = \" \")\n",
    "for i in range(C.shape[0]):\n",
    "    for j in range(C.shape[1]):\n",
    "        if (i - j > 0):\n",
    "            print(total[i, j], end=\" \")\n",
    "print(\"\")"
   ]
  },
  {
   "cell_type": "code",
   "execution_count": 9,
   "id": "9fe8039d",
   "metadata": {},
   "outputs": [
    {
     "name": "stdout",
     "output_type": "stream",
     "text": [
      "\n",
      " Câu F\n",
      "Nghiệm C của phương trình AC - C = B là: \n",
      " [[-1.71428571 -0.52380952 -0.80952381  1.47619048]\n",
      " [ 0.85714286  0.92857143 -1.92857143  0.42857143]\n",
      " [ 2.          2.5         0.5        -1.        ]\n",
      " [-1.42857143 -1.88095238  0.54761905  0.61904762]]\n"
     ]
    }
   ],
   "source": [
    "# f)\n",
    "print(\"\\n Câu F\")\n",
    "\n",
    "def IsInverse(A):\n",
    "    # check xem A co la ma tran vuong khong va rank A co bang voi shape A khong ?\n",
    "    return (A.shape[0] == A.shape[1]) and (np.linalg.matrix_rank(A) == A.shape[0])\n",
    "\n",
    "# tao ma tran I cung shape voi A\n",
    "I = np.identity(A.shape[0])\n",
    "\n",
    "# ta biet rang AC - C = B ,vay (A - I)C = B\n",
    "# tiep teho ta check (A - I) co nghich dao hay khong, neu co thi: C = (A - I)^-1 B\n",
    "C = np.empty(A.shape)\n",
    "if (IsInverse(A - I)):\n",
    "    inv = np.linalg.inv(A - I)\n",
    "    C = inv @ B\n",
    "print(f\"Nghiệm C của phương trình AC - C = B là: \\n {C}\")"
   ]
  },
  {
   "cell_type": "markdown",
   "id": "1ed06d90",
   "metadata": {},
   "source": [
    "### Bài 2. (2đ)\n",
    "\n",
    "Trong lĩnh vực xử lý ngôn ngữ tự nhiên $NLP$, với danh sách từ vựng $\\mathcal{L}$ độ dài $\\ell$, mỗi câu văn có thể được mô tả bởi 1 vector $v\\in\\mathbb{R}^{\\ell}$ mà thành phần thứ $i$ cho biết số lần mà từ $d_i \\in \\mathcal{L}$ xuất hiện trong câu, còn được gọi là tọa độ của câu văn trong $\\mathcal{L}$. Xét các câu văn sau đây:\n",
    "> * $D_1$: *tôi là An*.\n",
    "> * $D_2$: *tôi thích đi xem phim*.\n",
    "> * $D_3$: *An rất thích xem tôi du lịch*.\n",
    "> * $D_4$: *tôi rất rất thích đi du lịch, An là tên tôi*.\n",
    "\n",
    "Giả sử rằng $\\mathcal{L} =$ (*An, du, đi, là, lịch, phim, rất, tên, thích, tôi, xem*) với $|\\mathcal{L}| = 11$ thì chẳng hạn câu văn $D_0$ = *tôi rất thích An An* sẽ có tọa độ là $$d_0 = (2,0,0,0,0,0,1,0,1,1,0).$$\n",
    "- **a)** Viết toạ độ của các câu văn $D_1,D_2,D_3,D_4$ ở dạng vector trong không gian $11$ chiều ứng với từ vựng $\\mathcal{L}$.\n",
    "- **b)** Tính khoảng cách Euclid đôi một giữa các câu văn trên sử dụng thư viện *numpy.linalg*.\n",
    "- **c)** Ở trên ta dùng thư viện, vậy hãy cho biết công thức Toán học cụ thể để tính khoảng cách Euclid giữa hai vector bên dưới là gì:\n",
    "$$d = (x_1,x_2,...,x_{11}) \\text{ và } d' = (y_1,y_2,...,y_{11})?$$"
   ]
  },
  {
   "cell_type": "code",
   "execution_count": null,
   "id": "51315a1f",
   "metadata": {},
   "outputs": [],
   "source": [
    "#Gợi ý code mẫu\n",
    "import numpy as np\n",
    "d1 = np.array([...])\n",
    "d2 = np.array([...])\n",
    "d3 = np.array([...])\n",
    "d4 = np.array([...])\n",
    "D = np.vstack([d1,d2,d3,d4])\n",
    "l = len(D)\n",
    "for i in range(...):\n",
    "    for j in range(...):\n",
    "        print('Khoảng cách giữa d{} & d{} là'.format(i+1,j+1), round(..., 2))"
   ]
  },
  {
   "cell_type": "code",
   "execution_count": 10,
   "id": "6565d457",
   "metadata": {},
   "outputs": [
    {
     "name": "stdout",
     "output_type": "stream",
     "text": [
      "Khoảng cách giữa d1 và d1 là 0.0\n",
      "Khoảng cách giữa d1 và d2 là 2.45\n",
      "Khoảng cách giữa d1 và d3 là 2.45\n",
      "Khoảng cách giữa d1 và d4 là 3.0\n",
      "Khoảng cách giữa d2 và d1 là 2.45\n",
      "Khoảng cách giữa d2 và d2 là 0.0\n",
      "Khoảng cách giữa d2 và d3 là 2.45\n",
      "Khoảng cách giữa d2 và d4 là 3.32\n",
      "Khoảng cách giữa d3 và d1 là 2.45\n",
      "Khoảng cách giữa d3 và d2 là 2.45\n",
      "Khoảng cách giữa d3 và d3 là 0.0\n",
      "Khoảng cách giữa d3 và d4 là 2.24\n",
      "Khoảng cách giữa d4 và d1 là 3.0\n",
      "Khoảng cách giữa d4 và d2 là 3.32\n",
      "Khoảng cách giữa d4 và d3 là 2.24\n",
      "Khoảng cách giữa d4 và d4 là 0.0\n"
     ]
    }
   ],
   "source": [
    "import numpy as np\n",
    "\n",
    "# a)\n",
    "\n",
    "# D1: tôi là An\n",
    "d1 = np.array([1, 0, 0, 1, 0, 0, 0, 0, 0, 1, 0])\n",
    "# D2: tôi thích đi xem phim\n",
    "d2 = np.array([0, 0, 1, 0, 0, 1, 0, 0, 1, 1, 1])\n",
    "# D3: An rất thích xem tôi du lịch\n",
    "d3 = np.array([1, 1, 0, 0, 1, 0, 1, 0, 1, 1, 1])\n",
    "# D4: tôi rất rất thích đi du lịch, An là tên tôi\n",
    "d4 = np.array([1, 1, 1, 1, 1, 0, 2, 1, 1, 1, 0])\n",
    "\n",
    "D = np.vstack([d1, d2, d3, d4])\n",
    "l = len(D)\n",
    "\n",
    "# b)\n",
    "for i in range(l):\n",
    "    for j in range(l):\n",
    "        print(f'Khoảng cách giữa d{i + 1} và d{j + 1} là {round(np.linalg.norm(D[i] - D[j]), 2)}')"
   ]
  },
  {
   "cell_type": "markdown",
   "id": "1c9e1a16",
   "metadata": {},
   "source": [
    "c ) Cho:\n",
    "$$d = (x_1,x_2,...,x_{11}) \\text{ và } d' = (y_1,y_2,...,y_{11})$$\n",
    "\n",
    "Công thức tính khoảng cách Euclid giữa $d$ và $d'$ là:\n",
    "$$\n",
    "\\text{dist}(d, d') = || d - d' || = (d-d')^T(d - d') = \\sqrt{ \\sum_{i=1}^{11} (y_i - x_i)^2}\n",
    "$$"
   ]
  },
  {
   "cell_type": "markdown",
   "id": "743864c9",
   "metadata": {},
   "source": [
    "## Bài 3. (1.5 điểm) Trong hai chọn một.\n",
    "3.1) Kết quả học tập của một nhóm sinh viên ở môn **Phương pháp toán cho Trí tuệ nhân tạo** được cho trong bảng bên dưới. Sinh viên chỉ qua môn nếu điểm tổng kết không dưới $5.0$."
   ]
  },
  {
   "cell_type": "markdown",
   "id": "b2fe4308",
   "metadata": {},
   "source": [
    "|Sinh viên | BT cá nhân  | Báo cáo   | Giữa kỳ   | Cuối kỳ   |\n",
    "|----------|-------------|-----------|-----------|-----------|\n",
    "|  A       |     8       |    7      |    6      |    4      |\n",
    "|  B       |     0       |    7      |    5      |    6      |\n",
    "|  C       |     3       |    9      |    4      |    5      |\n",
    "|  D       |     7       |    8      |    3      |    5      |\n",
    "|  E       |     10      |    10     |    10     |    9      |\n",
    "|  F       |     6       |    0      |    6      |    5      |"
   ]
  },
  {
   "cell_type": "markdown",
   "id": "9a17d697",
   "metadata": {},
   "source": [
    "GV đang cân nhắc cho các điểm theo trọng số nào để có lợi cho các sinh viên nhất (ít người rớt nhất), có $3$ phương án:\n",
    "* $0.2, 0.2, 0.2, 0.4$.\n",
    "* $0.1, 0.1, 0.3, 0.5.$\n",
    "* $0.1, 0.2, 0.3, 0.4.$\n",
    "\n",
    "Hãy giúp giảng viên lựa chọn phương án thích hợp."
   ]
  },
  {
   "cell_type": "code",
   "execution_count": 25,
   "id": "e63c0a39",
   "metadata": {},
   "outputs": [
    {
     "name": "stdout",
     "output_type": "stream",
     "text": [
      "Diem theo trong so (0.1, 0.2, 0.3, 0.4) se co loi cho hoc sinh\n"
     ]
    }
   ],
   "source": [
    "#CODE HERE\n",
    "import numpy as np\n",
    "from typing import Tuple, List\n",
    "\n",
    "diem_arr = np.array([[8, 7, 6, 4],\n",
    "                [0, 7, 5, 6],\n",
    "                [3, 9, 4, 5],\n",
    "                [7, 8, 3, 5],\n",
    "                [10, 10, 10, 9],\n",
    "                [6, 0, 6, 5]])\n",
    "\n",
    "A = (0.2, 0.2, 0.2, 0.4)\n",
    "B = (0.1, 0.1, 0.3, 0.5)\n",
    "C = (0.1, 0.2, 0.3, 0.4)\n",
    "\n",
    "def SoLuongSVQuaMon(trong_so: Tuple[float]) -> int:\n",
    "    global diem_arr\n",
    "    \n",
    "    # tinh diem tong ket cua nhom sinh vien dua tren tung trong so\n",
    "    diem_sv: List[float] = []\n",
    "\n",
    "    for i in range(diem_arr.shape[0]):\n",
    "        total: float = 0\n",
    "\n",
    "        for j in range(diem_arr.shape[1]):\n",
    "            total = total + (diem_arr[i, j] * trong_so[j])\n",
    "\n",
    "        diem_sv.append(round(total, 2))\n",
    "    \n",
    "    # tinh so luong sinh vien qua mon\n",
    "    so_luong: int = 0\n",
    "\n",
    "    for i in range(len(diem_sv)):\n",
    "        if (diem_sv[i] >= 5.0):\n",
    "            so_luong = so_luong + 1\n",
    "\n",
    "    return so_luong\n",
    "\n",
    "# so luong sinh vien theo cac trong so A, B, C, D\n",
    "sl_A, sl_B, sl_C = SoLuongSVQuaMon(A), SoLuongSVQuaMon(B), SoLuongSVQuaMon(C)\n",
    "\n",
    "sl_max = max(sl_A, sl_B, sl_C)\n",
    "\n",
    "# A la phuong an toi uu\n",
    "if (sl_A == sl_max):\n",
    "    print(f\"Diem theo trong so {A} se co loi cho hoc sinh\")\n",
    "\n",
    "# B la phuong an toi uu\n",
    "if (sl_B == sl_max):\n",
    "    print(f\"Diem theo trong so {B} se co loi cho hoc sinh\")\n",
    "\n",
    "# C la phuong an toi uu\n",
    "if (sl_C == sl_max):\n",
    "    print(f\"Diem theo trong so {C} se co loi cho hoc sinh\")"
   ]
  },
  {
   "cell_type": "markdown",
   "id": "4e105e1e",
   "metadata": {},
   "source": [
    "3.2) Cho bài toán sau, hãy bằng cách lập hệ phương trình thích hợp và giải bằng Python theo **ít nhất $2$ cách khác nhau**: <br>\n",
    "\n",
    "Trong đợt dịch cúm Covid-19, sinh viên của một trường Đại học có nhận được trợ cấp từ nhà trường, từ địa phương và từ hội cựu sinh viên. Khảo sát trong một lớp học có ba nhóm: đang ở quê, đang ở trọ tại TPHCM và đang ở KTX trường. Biết rằng mức tiền hỗ trợ tiền:\n",
    "* Của trường cho các nhóm trên lần lượt là: $200k, 600k, 400k$; \n",
    "* Của địa phương là: $500k, 500k, 500k$; \n",
    "* Của hội cựu sinh viên là: $0k, 700k, 300k.$\n",
    "\n",
    "Biết rằng tổng tiền mà sinh viên được từ nhà trường là $37$ triệu, từ địa phương là $50$ triệu và từ hội cựu sinh viên là $29$ triệu. Tính tổng sinh viên của lớp."
   ]
  },
  {
   "cell_type": "code",
   "execution_count": 21,
   "id": "f92a6244",
   "metadata": {},
   "outputs": [
    {
     "name": "stdout",
     "output_type": "stream",
     "text": [
      "{x: 50, y: 35, z: 15}\n",
      "[50. 35. 15.]\n"
     ]
    }
   ],
   "source": [
    "#CODE HERE\n",
    "#CODE HERE\n",
    "\n",
    "tien_nt = 37000\n",
    "tien_dp = 50000\n",
    "tien_csv = 29000\n",
    "\n",
    "# ta co hpt:\n",
    "# 200x + 600y + 400z = tien_nt\n",
    "# 500x + 500y + 500z = tien_dp\n",
    "# 0x + 700y + 300z = tien_csv\n",
    "\n",
    "# Cach 1: dung sympy\n",
    "import sympy as sp\n",
    "\n",
    "x, y, z = sp.symbols('x, y, z')\n",
    "eq1 = sp.Eq(200*x + 600*y + 400*z, tien_nt)\n",
    "eq2 = sp.Eq(500*x + 500*y + 500*z, tien_dp)\n",
    "eq3 = sp.Eq(0*x + 700*y + 300*z, tien_csv)\n",
    "\n",
    "ans = sp.solve((eq1, eq2, eq3), (x, y, z))\n",
    "print(ans)\n",
    "\n",
    "# Cach 2: dung ma tran voi numpy\n",
    "import numpy as np\n",
    "\n",
    "# hpt se duoc bien doi thanh:\n",
    "# A*x = b\n",
    "# voi A = ((200, 600, 400), (500, 500, 500), (0, 700, 300))\n",
    "# b = (tien_nt, tien_dp, tien_csv)\n",
    "# va x = A^-1b\n",
    "\n",
    "A = np.array([[200, 600, 400], \n",
    "               [500, 500, 500],\n",
    "               [0, 700, 300]])\n",
    "b = np.array([tien_nt, tien_dp, tien_csv])\n",
    "\n",
    "x = np.linalg.inv(A) @ b\n",
    "print(x)"
   ]
  },
  {
   "cell_type": "markdown",
   "id": "52f80afd",
   "metadata": {},
   "source": [
    "## Bài 4. (2 điểm)\n",
    "Một thí nghiệm xét mối liên hệ giữa độ giảm trọng lượng của hợp chất ($y$, tính bằng gam) và khoảng thời gian mà hợp chất tiếp xúc với không khí ($x$, tính bằng năm), trong đó số âm có thể hiểu là giai đoạn xử lý nguyên liệu, trước khi điều chế ra hợp chất. Ta có bảng dữ liệu như sau:"
   ]
  },
  {
   "cell_type": "markdown",
   "id": "700d63d7",
   "metadata": {},
   "source": [
    "| $x$    | $-2$ | $0$   | $1$  | $2$  | $4$   |\n",
    "|--------|------|-------|------|------|-------|\n",
    "| $y$    | $-1$ | $1.5$ | $3.1$| $6.3$| $11.1$| "
   ]
  },
  {
   "cell_type": "markdown",
   "id": "143fd75c",
   "metadata": {},
   "source": [
    "- **a)** Giả sử $x,y$ thỏa mãn mô hình $y=a+bx+c \\ln(x^2+1).$ Hãy sử dụng phương pháp bình phương cực tiểu, ước lượng các tham số $a,b,c.$ <br>\n",
    "- **b)** Vẽ đồ thị cho dữ liệu. Sử dụng kết quả trên để dự đoán $y$ khi $x = 6.5$. <br>\n",
    "- **c)** Hỏi có nên dùng mô hình $y=a+bx+c \\ln(x)$ hoặc $y = a+bx+\\frac{c}{x}$ để xấp xỉ dữ liệu trên không? Vì sao?"
   ]
  },
  {
   "cell_type": "code",
   "execution_count": null,
   "id": "f10d4a30",
   "metadata": {},
   "outputs": [],
   "source": [
    "# Gợi ý code mẫu\n",
    "A = np.array([[...],[...],[...],[...],[...]])\n",
    "b = np.array([...])\n",
    "#dùng công thức tính ma trận giả nghịch đảo:\n",
    "...\n",
    "...\n",
    "...\n",
    "#code để vẽ đồ thị\n",
    "from matplotlib import pyplot as plt\n",
    "plt.plot(..., marker=\".\", color=\"red\")\n",
    "... #plot các điểm khác tương tự\n",
    "x = ...\n",
    "y = ...\n",
    "plt.plot(x,y)\n",
    "plt.show()"
   ]
  },
  {
   "cell_type": "code",
   "execution_count": 14,
   "id": "bf37949b",
   "metadata": {},
   "outputs": [
    {
     "name": "stdout",
     "output_type": "stream",
     "text": [
      "Cac tham so a = 1.1444648271875475, b = 1.811518607733427 và c = 0.9221445332854217\n"
     ]
    }
   ],
   "source": [
    "import numpy as np\n",
    "import matplotlib.pyplot as plt\n",
    "\n",
    "# a)\n",
    "\n",
    "# vector X\n",
    "X = np.array([-2, 0, 1, 2, 4])\n",
    "\n",
    "# vector Y\n",
    "Y = np.array([-1, 1.5, 3.1, 6.3, 11.1])\n",
    "\n",
    "# g(x) = ln(x^2 + 1)\n",
    "def g(x): \n",
    "    return np.log(x**2 + 1) \n",
    "\n",
    "# ma tran A theo mo hinh a + bx + cln(x^2+1)\n",
    "A = np.vstack([g(X), X, np.ones(X.shape)]).T\n",
    "\n",
    "# giai phuong trinh Ax = b, ta tim x^ gan dung voi x nhat\n",
    "# x^ = (A^TA)^{-1}Ab voi b = Y\n",
    "b = Y\n",
    "\n",
    "def FindX(A):\n",
    "    global b\n",
    "    return np.linalg.inv(A.T @ A) @ A.T @ b\n",
    "\n",
    "x_hat = FindX(A)\n",
    "print(f\"Cac tham so a = {x_hat[2]}, b = {x_hat[1]} và c = {x_hat[0]}\")"
   ]
  },
  {
   "cell_type": "code",
   "execution_count": 22,
   "id": "53137806",
   "metadata": {},
   "outputs": [
    {
     "data": {
      "image/png": "[encoded data removed]",
      "text/plain": [
       "<Figure size 640x480 with 1 Axes>"
      ]
     },
     "metadata": {},
     "output_type": "display_data"
    }
   ],
   "source": [
    "# b)\n",
    "\n",
    "# f(x, coeff=[a, b, c]) = aln(x^2+1) + bx + c\n",
    "def f(x, coeff):\n",
    "    return coeff[0]*np.log(x**2 + 1) + coeff[1]*x + coeff[2]\n",
    "\n",
    "domain = np.linspace(-10, 10) # mien xac dinh tu -10 -> 10\n",
    "\n",
    "# ve mo hinh\n",
    "plt.plot(domain, f(domain, x_hat), color='purple', label='Mô hình')\n",
    "\n",
    "# ve cac diem\n",
    "plt.scatter(X, Y, marker='.', color='blue', label='Điểm')\n",
    "\n",
    "plt.xlabel('Thời gian hợp chất tiếp xúc với không khí')\n",
    "plt.ylabel('Độ giảm trọng lượng của hợp chất')\n",
    "plt.legend()\n",
    "plt.show()"
   ]
  },
  {
   "cell_type": "code",
   "execution_count": 23,
   "id": "705ce1d6",
   "metadata": {},
   "outputs": [
    {
     "name": "stdout",
     "output_type": "stream",
     "text": [
      "Gia tri y tai x = 0.65 la 2.6469303058711784\n"
     ]
    }
   ],
   "source": [
    "# b)\n",
    "print(f\"Gia tri y tai x = 0.65 la {f(0.65, x_hat)}\")"
   ]
  },
  {
   "cell_type": "markdown",
   "id": "0099ebe2",
   "metadata": {},
   "source": [
    "c) Đầu tiên ta thấy nếu mô hình là $a + bx + cln(x)$ thì không thể dùng được do mô hình trên không xác định tại $0$, nhưng dữ liệu thì có thể $=0$. Tương tự với mô hình là $a + bx + \\frac{c}{x}$."
   ]
  },
  {
   "cell_type": "markdown",
   "id": "e68ef7a4",
   "metadata": {},
   "source": [
    "## Bài 5. (2 điểm)\n",
    "Cho ma trận: $M=\\left( \\begin{matrix}\n",
    "   2 & a & -2  \\\\\n",
    "   0 & 3 & 0  \\\\\n",
    "   0 & 0 & 3  \\\\\n",
    "\\end{matrix} \\right)$ trong đó $a$ là tham số thực.\n",
    "* a) Cho $a=1,$ hãy chéo hóa ma trận này để thu được ma trận $D,P$ trong đó $D = P^{-1}AP$ và $D$ là ma trận đường chéo bằng cách dùng thư viện của Python (diagonalize) và kiểm chứng lại bằng việc tính toán cụ thể từng bước để tìm đa thức đặc trưng và các giá trị riêng của $M$. Từ đó hãy nêu cách tính ${{M}^{99}}$.\n",
    "* b) Ma trận chéo hóa $D$ của $M$ luôn không đổi với mọi giá trị $a$ tùy ý, hãy kiểm chứng với vài giá trị cụ thể của $a$ và giải thích lý do.\n"
   ]
  },
  {
   "cell_type": "code",
   "execution_count": 17,
   "id": "12e249ec",
   "metadata": {},
   "outputs": [
    {
     "name": "stdout",
     "output_type": "stream",
     "text": [
      "Ma tran M: \n",
      " [[ 2  1 -2]\n",
      " [ 0  3  0]\n",
      " [ 0  0  3]]\n",
      "Ma tran nghich dao P (da chuan hoa):\n",
      " [[ 1.          0.70710678 -0.89442719]\n",
      " [ 0.          0.70710678  0.        ]\n",
      " [ 0.          0.          0.4472136 ]]\n",
      "Ma tran cheo D: \n",
      " [[2. 0. 0.]\n",
      " [0. 3. 0.]\n",
      " [0. 0. 3.]]\n"
     ]
    }
   ],
   "source": [
    "#CODE HERE\n",
    "M = np.array([[2, 1, -2],\n",
    "              [0, 3, 0],\n",
    "              [0, 0, 3]])\n",
    "print(f\"Ma tran M: \\n {M}\")\n",
    "\n",
    "_,P = np.linalg.eig(M)\n",
    "print(f\"Ma tran nghich dao P (da chuan hoa):\\n {P}\")\n",
    "\n",
    "D = np.linalg.inv(P) @ M @ P\n",
    "print(f\"Ma tran cheo D: \\n {D}\")"
   ]
  },
  {
   "cell_type": "markdown",
   "id": "01fc989f",
   "metadata": {},
   "source": [
    "Ta biết ma trận $P$ là một ma trận khả nghịch nên:\n",
    "$$\n",
    "D = P^{-1}MP \\implies M = PDP^{-1}\n",
    "$$\n",
    "\n",
    "Khi đó:\n",
    "$$\n",
    "M^{n} = (PDP^{-1})^n = (PDP^{-1})(PDP^{-1})...(PDP^{-1}) = (PD^2P^{-1})...(PDP^{-1}) = PD^{n}P^{-1}\n",
    "$$\n",
    "\n",
    "Vậy có nghĩa:\n",
    "$$\n",
    "M^{99} = PD^{99}P^{-1}\n",
    "$$"
   ]
  },
  {
   "cell_type": "code",
   "execution_count": 18,
   "id": "61393590",
   "metadata": {},
   "outputs": [
    {
     "name": "stdout",
     "output_type": "stream",
     "text": [
      "Ma tran M^99:\n",
      " [[ 6.33825300e+29  1.71792507e+47 -3.43585014e+47]\n",
      " [ 0.00000000e+00  1.71792507e+47  0.00000000e+00]\n",
      " [ 0.00000000e+00  0.00000000e+00  1.71792507e+47]]\n"
     ]
    }
   ],
   "source": [
    "# mu 99\n",
    "D99 = np.linalg.matrix_power(D, 99)\n",
    "M99 = P @ D99 @ np.linalg.inv(P)\n",
    "M99\n",
    "print(f\"Ma tran M^99:\\n {M99}\")"
   ]
  },
  {
   "cell_type": "markdown",
   "id": "ca7dd277",
   "metadata": {},
   "source": [
    "Kiểm chứng lại:\n",
    "- Ta có ma trận:\n",
    "$$\n",
    "M = \\begin{pmatrix}\n",
    "2 & 1 & -2 \\\\\n",
    "0 & 3 & 0 \\\\\n",
    "0 & 0 & 3\n",
    "\\end{pmatrix}\n",
    "$$\n",
    "\n",
    "- Khi đó phương trình đặc trưng của ma trận sẽ là \n",
    "$$\n",
    "\\begin{aligned}\n",
    "f(\\lambda) &= det(\\lambda I - A) \\\\\n",
    "&= det \\left( \\begin{pmatrix}\n",
    "    \\lambda - 2 & 1 & -2 \\\\\n",
    "    0 & \\lambda - 3 & 0 \\\\\n",
    "    0 & 0 & \\lambda - 3\n",
    "\\end{pmatrix} \\right) \\\\\n",
    "&= (\\lambda - 2)(\\lambda - 3)^2\n",
    "\\end{aligned}\n",
    "$$\n",
    "\n",
    "- Vậy phương trình $f(\\lambda)$ sẽ có 3 nghiệm là $\\lambda = 2$ và hai nghiệm kép $\\lambda = 3$.\n",
    "\n",
    "- Xét $\\lambda = 2$, tìm vector riêng $v = (x, y, z)$ tương ứng, ta có:\n",
    "$$\n",
    "\\begin{aligned}\n",
    "(\\lambda_1 I - A)v &= 0_v \\hspace{10pt} \\text{(ta kí hiệu vector không là $0_v$)} \\\\\n",
    "\\implies \\hspace{10pt} \\begin{pmatrix} \n",
    "    0 & 1 & -2 \\\\\n",
    "    0 & -1 & 0 \\\\\n",
    "    0 & 0 & -1 \\\\\n",
    "\\end{pmatrix}v_1 &= 0_v\n",
    "\\end{aligned}\n",
    "$$\n",
    "\n",
    "- Ta có:\n",
    "$$\n",
    "\\begin{cases}\n",
    "0x +y - 2z = 0 \\\\\n",
    "0x -y + 0z = 0 \\\\\n",
    "0x + 0y -z = 0 \\\\ \n",
    "\\end{cases} \\implies\n",
    "\\begin{cases}\n",
    "x = \\alpha \\hspace{10pt} (\\alpha \\in \\mathbb{R}) \\\\ \n",
    "y = 0 \\\\\n",
    "z = 0\n",
    "\\end{cases}\n",
    "$$\n",
    "\n",
    "- Vậy:\n",
    "$$\n",
    "v = \\alpha \\begin{pmatrix}\n",
    "1 \\\\\n",
    "0 \\\\\n",
    "0 \n",
    "\\end{pmatrix} \\implies v_1 = \\begin{pmatrix} 1 \\\\ 0 \\\\ 0 \\end{pmatrix}\n",
    "$$\n",
    "\n",
    "- Xét $\\lambda = 3$, ta có:\n",
    "$$\n",
    "\\begin{pmatrix}\n",
    "-1 & 1 & -2  \\\\\n",
    "0 & 0 & 0 \\\\\n",
    "0 & 0 & 0\n",
    "\\end{pmatrix} v = 0_v\n",
    "$$\n",
    "\n",
    "- Ta có:\n",
    "$$\n",
    "\\begin{cases}\n",
    "-x + y -2z = 0 \\\\\n",
    "0x + 0y + 0z = 0 \\\\\n",
    "0x + 0y + 0z = 0 \\\\\n",
    "\\end{cases} \\implies\n",
    "\\begin{cases}\n",
    "x = \\alpha - 2\\beta \\\\\n",
    "y = \\alpha \\hspace{10pt} (\\alpha \\in \\mathbb{R}) \\\\\n",
    "z = \\beta \\hspace{10pt} (\\beta \\in \\mathbb{R}) \\\\\n",
    "\\end{cases}\n",
    "$$\n",
    "\n",
    "- Vậy:\n",
    "$$\n",
    "v = \\alpha \\begin{pmatrix}\n",
    "1 \\\\\n",
    "1 \\\\\n",
    "0 \\end{pmatrix} + \\beta \\begin{pmatrix}  \n",
    "-2 \\\\\n",
    "0 \\\\\n",
    "1 \\\\\n",
    "\\end{pmatrix} \\implies v_2 = \\begin{pmatrix}\n",
    "1 \\\\\n",
    "1 \\\\\n",
    "0 \\end{pmatrix} \\hspace{5pt} \\text{và} \\hspace{5pt}\n",
    "v_3 = \\begin{pmatrix}\n",
    "-2 \\\\ \n",
    "0 \\\\\n",
    "1\n",
    "\\end{pmatrix}\n",
    "$$\n",
    "\n",
    "- Vậy ma trận nghịch đảo $P$ cần tìm là:\n",
    "$$\n",
    "P = \\begin{pmatrix} v_1 & v_2 & v_3 \\end{pmatrix} = \n",
    "\\begin{pmatrix}\n",
    "1 & 1 & -2\\\\\n",
    "0 & 1 & 0\\\\\n",
    "0 & 0 & 1\\\\\n",
    "\\end{pmatrix}\n",
    "$$\n",
    "\n",
    "- Ta dùng Gauss-Jordan để tìm ma trận $P^{-1}$:\n",
    "$$\n",
    "\\begin{aligned}\n",
    "\\begin{pmatrix}\n",
    "1 & 1 & -2 & | & 1 & 0 & 0\\\\\n",
    "0 & 1 & 0 & | & 0 & 1 & 0\\\\\n",
    "0 & 0 & 1 & | & 0 & 0 & 1\\\\\n",
    "\\end{pmatrix} &\\implies\n",
    "\\begin{pmatrix}\n",
    "1 & 0 & -2 & | & 1 & -1 & 0\\\\\n",
    "0 & 1 & 0 & | & 0 & 1 & 0\\\\\n",
    "0 & 0 & 1 & | & 0 & 0 & 1\\\\\n",
    "\\end{pmatrix} \\\\\n",
    "&\\implies\n",
    "\\begin{pmatrix}\n",
    "1 & 0 & 0 & | & 1 & -1 & 2\\\\\n",
    "0 & 1 & 0 & | & 0 & 1 & 0\\\\\n",
    "0 & 0 & 1 & | & 0 & 0 & 1\\\\\n",
    "\\end{pmatrix}\n",
    "\\end{aligned}\n",
    "$$\n",
    "\n",
    "- Lúc này ma trận chéo cần tìm là:\n",
    "$$\n",
    "\\begin{aligned}\n",
    "D &= P^{-1}MP  \\\\\n",
    "&= \\begin{pmatrix}\n",
    "1 & -1 & 2\\\\\n",
    "0 & 1 & 0\\\\\n",
    "0 & 0 & 1\\\\\n",
    "\\end{pmatrix}\n",
    "\\begin{pmatrix}\n",
    "2 & 1 & -2 \\\\\n",
    "0 & 3 & 0 \\\\\n",
    "0 & 0 & 3\n",
    "\\end{pmatrix}\n",
    "\\begin{pmatrix}\n",
    "1 & 1 & -2\\\\\n",
    "0 & 1 & 0\\\\\n",
    "0 & 0 & 1\\\\\n",
    "\\end{pmatrix} \\\\\n",
    "&= \\begin{pmatrix}\n",
    "2 & 0 & 0 \\\\\n",
    "0 & 3 & 0 \\\\\n",
    "0 & 0 & 3\n",
    "\\end{pmatrix}\n",
    "\\end{aligned}\n",
    "$$"
   ]
  },
  {
   "cell_type": "code",
   "execution_count": 19,
   "id": "336aa508",
   "metadata": {},
   "outputs": [
    {
     "name": "stdout",
     "output_type": "stream",
     "text": [
      "Ma tran P:\n",
      " [[ 1  1 -2]\n",
      " [ 0  1  0]\n",
      " [ 0  0  1]]\n",
      "Nghich dao cua P:\n",
      " [[ 1. -1.  2.]\n",
      " [ 0.  1.  0.]\n",
      " [ 0.  0.  1.]]\n",
      "Ma tran cheo D:\n",
      " [[2. 0. 0.]\n",
      " [0. 3. 0.]\n",
      " [0. 0. 3.]]\n"
     ]
    }
   ],
   "source": [
    "# P theo bai lam nhu tren\n",
    "P1 = np.array([[1, 1, -2],\n",
    "              [0, 1, 0],\n",
    "              [0, 0, 1]])\n",
    "print(f\"Ma tran P:\\n {P1}\")\n",
    "print(f\"Nghich dao cua P:\\n {np.linalg.inv(P1)}\")\n",
    "\n",
    "D1 = np.linalg.inv(P1) @ M @ P1\n",
    "print(f\"Ma tran cheo D:\\n {D1}\")"
   ]
  },
  {
   "cell_type": "markdown",
   "id": "bd4a8d40",
   "metadata": {},
   "source": [
    "b) \n",
    "- Xét ma trận:\n",
    "$$\n",
    "M = \\begin{pmatrix}\n",
    "   2 & a & -2  \\\\\n",
    "   0 & 3 & 0  \\\\\n",
    "   0 & 0 & 3  \\\\\n",
    "\\end{pmatrix}\n",
    "$$\n",
    "\n",
    "- Ta có thể thấy ma trận $M$ là một ma trận tam giác trên và $a$ không nằm ở đường chéo nên cho dù $a$ thay đổi thành bất cứ giá trị nào thì trị riêng của ma trận $M$ vẫn giữ nguyên.\n",
    "\n",
    "- Vậy phương trình đặc trừng $f(\\lambda)$ của $M$ có 3 nghiệm là: $\\lambda = 2$ và 2 nghiệm kép $\\lambda = 3$.\n",
    "\n",
    "- Tiếp theo ta tìm các vector riêng của $M$.\n",
    "\n",
    "- Xét $\\lambda = 2$, ta có:\n",
    "$$\n",
    "\\begin{pmatrix}\n",
    "   0 & a & -2 \\\\\n",
    "   0 & -1 & 0 \\\\\n",
    "   0 & 0 & -1 \\\\\n",
    "\\end{pmatrix} v = 0_v\n",
    "$$\n",
    "\n",
    "- Vậy:\n",
    "$$\n",
    "v = \\alpha \\begin{pmatrix}\n",
    "1 \\\\\n",
    "0 \\\\\n",
    "0 \n",
    "\\end{pmatrix} \\implies v_1 = \\begin{pmatrix}\n",
    "1 \\\\\n",
    "0 \\\\\n",
    "0 \n",
    "\\end{pmatrix}\n",
    "$$\n",
    "\n",
    "- Xét $\\lambda = 3$, ta có:\n",
    "$$\n",
    "\\begin{pmatrix}\n",
    "-1 & a & -2  \\\\\n",
    "0 & 0 & 0 \\\\\n",
    "0 & 0 & 0\n",
    "\\end{pmatrix} v = 0_v\n",
    "$$\n",
    "\n",
    "- Vậy:\n",
    "$$\n",
    "v = \\alpha \\begin{pmatrix}\n",
    "a \\\\\n",
    "1 \\\\\n",
    "0 \\end{pmatrix} + \\beta \\begin{pmatrix}  \n",
    "-2 \\\\\n",
    "0 \\\\\n",
    "1 \\\\\n",
    "\\end{pmatrix} \\implies v_2 = \\begin{pmatrix}\n",
    "a \\\\\n",
    "1 \\\\\n",
    "0 \\end{pmatrix} \\hspace{5pt} \\text{và} \\hspace{5pt}\n",
    "v_3 = \\begin{pmatrix}\n",
    "-2 \\\\ \n",
    "0 \\\\\n",
    "1\n",
    "\\end{pmatrix}\n",
    "$$\n",
    "\n",
    "- Vậy ma trận nghịch đảo $P$ cần tìm là:\n",
    "$$\n",
    "P = \\begin{pmatrix} v_1 & v_2 & v_3 \\end{pmatrix} = \n",
    "\\begin{pmatrix}\n",
    "1 & a & -2\\\\\n",
    "0 & 1 & 0\\\\\n",
    "0 & 0 & 1\\\\\n",
    "\\end{pmatrix}\n",
    "\\implies\n",
    "P^{-1} = \\begin{pmatrix}\n",
    "1 & -a & 2 \\\\\n",
    "0 & 1 & 0 \\\\\n",
    "0 & 0 & 1 \\\\\n",
    "\\end{pmatrix}\n",
    "$$\n",
    "\n",
    "- Ta lại thấy:\n",
    "$$\n",
    "M = I + P + \\begin{pmatrix}\n",
    "0 & 0 & 0\\\\\n",
    "0 & 1 & 0 \\\\\n",
    "0 & 0 & 1 \\\\\n",
    "\\end{pmatrix} \\hspace{5pt} \\text{(đặt ma trận này là $A$)}\n",
    "$$\n",
    "\n",
    "- Vậy ta có:\n",
    "$$\n",
    "\\begin{aligned}\n",
    "D &= P^{-1}MP \\\\\n",
    "&= P^{-1}(I + P + A)P \\\\\n",
    "&= P^{-1}IP + P^{-1}PP + P^{-1}AP \\\\\n",
    "&= I + P + P^{-1}AP \n",
    "\\end{aligned}\n",
    "$$\n",
    "\n",
    "- Xét tích $P^{-1}AP$, ta có:\n",
    "$$\n",
    "P^{-1}A = \\begin{pmatrix}\n",
    "1 & -a & 2 \\\\\n",
    "0 & 1 & 0 \\\\\n",
    "0 & 0 & 1 \\\\\n",
    "\\end{pmatrix} \\begin{pmatrix}\n",
    "0 & 0 & 0 \\\\\n",
    "0 & 1 & 0 \\\\\n",
    "0 & 0 & 1 \\\\\n",
    "\\end{pmatrix} = \\begin{pmatrix}\n",
    "0 & -a & 2 \\\\\n",
    "0 & 1 & 0 \\\\\n",
    "0 & 0 & 1 \\\\\n",
    "\\end{pmatrix} \\hspace{5pt} \\text{(giữ lại cột 2 và 3, tương ứng với 2 pivot của ma trận $A$)}\n",
    "$$\n",
    "\n",
    "- Tiếp tục, ta có:\n",
    "$$\n",
    "\\begin{aligned}\n",
    "P^{-1}AP &= \\begin{pmatrix}\n",
    "0 & -a & 2 \\\\\n",
    "0 & 1 & 0 \\\\\n",
    "0 & 0 & 1 \\\\\n",
    "\\end{pmatrix}P \\\\\n",
    "&= \\left(P^{-1} - \\begin{pmatrix}\n",
    "1 & 0 & 0 \\\\\n",
    "0 & 0 & 0 \\\\\n",
    "0 & 0 & 0\n",
    "\\end{pmatrix} \\right) P \\\\\n",
    "&= I - \\begin{pmatrix}\n",
    "1 & 0 & 0 \\\\\n",
    "0 & 0 & 0 \\\\\n",
    "0 & 0 & 0\n",
    "\\end{pmatrix}\n",
    "\\begin{pmatrix}\n",
    "1 & a & -2 \\\\\n",
    "0 & 1 & 0 \\\\\n",
    "0 & 0 & 1\n",
    "\\end{pmatrix} \\\\\n",
    "&= I - \\begin{pmatrix}\n",
    "1 & a & -2 \\\\\n",
    "0 & 0 & 0 \\\\\n",
    "0 & 0 & 0\n",
    "\\end{pmatrix} \\hspace{5pt} \\text{(chỉ giữ lại dòng 1, tương ứng với pivot)} \\\\\n",
    "&= \\begin{pmatrix}\n",
    "0 & -a & 2 \\\\\n",
    "0 & 1 & 0 \\\\\n",
    "0 & 0 & 1 \\\\\n",
    "\\end{pmatrix}\n",
    "\\end{aligned} \n",
    "$$\n",
    "\n",
    "- Cuối cùng, ta hoàn thiện được phương trình cho $D$:\n",
    "$$\n",
    "\\begin{aligned}\n",
    "D &= I + P + P^{-1}AP \\\\\n",
    "&= \\begin{pmatrix}\n",
    "1 & 0 & 0 \\\\\n",
    "0 & 1 & 0 \\\\\n",
    "0 & 0 & 1 \\\\\n",
    "\\end{pmatrix} +\n",
    "\\begin{pmatrix}\n",
    "1 & a & -2 \\\\\n",
    "0 & 1 & 0 \\\\\n",
    "0 & 0 & 1 \\\\\n",
    "\\end{pmatrix} + \\begin{pmatrix}\n",
    "0 & -a & 2 \\\\\n",
    "0 & 1 & 0 \\\\\n",
    "0 & 0 & 1 \\\\\n",
    "\\end{pmatrix} \\\\\n",
    "&= \\begin{pmatrix}\n",
    "2 & 0 & 0 \\\\\n",
    "0 & 3 & 0 \\\\\n",
    "0 & 0 & 3 \\\\\n",
    "\\end{pmatrix}\n",
    "\\end{aligned}\n",
    "$$\n",
    "\n",
    "- Vậy kết luận lại, giá trị của ma trận chéo $D$ không đổi với mọi giá trị $a$ tuỳ ý."
   ]
  }
 ],
 "metadata": {
  "kernelspec": {
   "display_name": "Python 3 (ipykernel)",
   "language": "python",
   "name": "python3"
  },
  "language_info": {
   "codemirror_mode": {
    "name": "ipython",
    "version": 3
   },
   "file_extension": ".py",
   "mimetype": "text/x-python",
   "name": "python",
   "nbconvert_exporter": "python",
   "pygments_lexer": "ipython3",
   "version": "3.9.13"
  }
 },
 "nbformat": 4,
 "nbformat_minor": 5
}
