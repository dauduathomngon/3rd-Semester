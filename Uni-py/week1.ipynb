{
 "cells": [
  {
   "cell_type": "code",
   "execution_count": 2,
   "metadata": {},
   "outputs": [],
   "source": [
    "# header\n",
    "import numpy as np\n",
    "import math"
   ]
  },
  {
   "attachments": {},
   "cell_type": "markdown",
   "metadata": {},
   "source": [
    "Bài 1"
   ]
  },
  {
   "cell_type": "code",
   "execution_count": 44,
   "metadata": {},
   "outputs": [],
   "source": [
    "bang_diem = np.array([[7. ,8. ,9. ,5.],\n",
    "                      [8., 7., 4., 6.],\n",
    "                      [7., 5., 8., 6.],\n",
    "                      [9., 9., 8., 7.],\n",
    "                      [10., 8., 9., 8.]])\n",
    "hoc_sinh = np.array([\"A\", \"B\", \"C\", \"D\"])"
   ]
  },
  {
   "cell_type": "code",
   "execution_count": 48,
   "metadata": {},
   "outputs": [],
   "source": [
    "def DiemTrungBinh(diem_hs: np.ndarray) -> float:\n",
    "    diem_tb: float = 0\n",
    "\n",
    "    for i in range(diem_hs.size):\n",
    "        diem_tb = diem_tb + ((diem_hs[i] * (i + 1) * 10.0) / 100.0)\n",
    "\n",
    "    return diem_tb"
   ]
  },
  {
   "cell_type": "code",
   "execution_count": 49,
   "metadata": {},
   "outputs": [
    {
     "name": "stdout",
     "output_type": "stream",
     "text": [
      "Diem trung binh cua hoc sinh A la 7.0 va hoc sinh A dau\n",
      "Diem trung binh cua hoc sinh B la 5.8 va hoc sinh B dau\n",
      "Diem trung binh cua hoc sinh C la 6.5 va hoc sinh C dau\n",
      "Diem trung binh cua hoc sinh D la 7.9 va hoc sinh D dau\n"
     ]
    }
   ],
   "source": [
    "for diem_hs, hs in zip(bang_diem, hoc_sinh):\n",
    "    diem_tb: float = round(DiemTrungBinh(diem_hs), 2)\n",
    "\n",
    "    status: str = \"dau\" if (diem_tb >= 5.0) else \"rot\"\n",
    "\n",
    "    print(f\"Diem trung binh cua hoc sinh {hs} la {diem_tb} va hoc sinh {hs} {status}\")"
   ]
  },
  {
   "attachments": {},
   "cell_type": "markdown",
   "metadata": {},
   "source": [
    "Bài 2"
   ]
  },
  {
   "cell_type": "code",
   "execution_count": 55,
   "metadata": {},
   "outputs": [
    {
     "name": "stdout",
     "output_type": "stream",
     "text": [
      "[[ 7  0 10]\n",
      " [ 3  1  9]\n",
      " [ 8  9  7]]\n",
      "[[6 0 0]\n",
      " [4 1 7]\n",
      " [7 6 6]]\n"
     ]
    }
   ],
   "source": [
    "matranA = np.random.randint(0, 11, size=(3, 3))\n",
    "matranB = np.random.randint(0, 11, size=(3, 3))\n",
    "print(matranA)\n",
    "print(matranB)"
   ]
  },
  {
   "cell_type": "code",
   "execution_count": 56,
   "metadata": {},
   "outputs": [
    {
     "name": "stdout",
     "output_type": "stream",
     "text": [
      "Vector 1 ma tran A lon hon Vector 3 ma tran B\n"
     ]
    }
   ],
   "source": [
    "normVec1OfA: float = np.linalg.norm(matranA[0])\n",
    "normVec3OfB: float = np.linalg.norm(matranB[2])\n",
    "\n",
    "so_sanh: str = \"Vector 1 ma tran A lon hon Vector 3 ma tran B\" if (normVec1OfA > normVec3OfB) else \"Vector 3 ma tran B lon hon Vector 1 ma tran A\"\n",
    "\n",
    "print(so_sanh)"
   ]
  },
  {
   "cell_type": "code",
   "execution_count": 57,
   "metadata": {},
   "outputs": [
    {
     "data": {
      "text/plain": [
       "array([[13,  0, 10],\n",
       "       [ 7,  2, 16],\n",
       "       [15, 15, 13]])"
      ]
     },
     "execution_count": 57,
     "metadata": {},
     "output_type": "execute_result"
    }
   ],
   "source": [
    "matranC = np.add(matranA, matranB)\n",
    "matranC"
   ]
  },
  {
   "cell_type": "code",
   "execution_count": 58,
   "metadata": {},
   "outputs": [
    {
     "data": {
      "text/plain": [
       "array([[ 1,  0, 10],\n",
       "       [-1,  0,  2],\n",
       "       [ 1,  3,  1]])"
      ]
     },
     "execution_count": 58,
     "metadata": {},
     "output_type": "execute_result"
    }
   ],
   "source": [
    "matranD = np.subtract(matranA, matranB)\n",
    "matranD"
   ]
  },
  {
   "cell_type": "code",
   "execution_count": 59,
   "metadata": {},
   "outputs": [
    {
     "data": {
      "text/plain": [
       "array([[112,  60,  60],\n",
       "       [ 85,  55,  61],\n",
       "       [133,  51, 105]])"
      ]
     },
     "execution_count": 59,
     "metadata": {},
     "output_type": "execute_result"
    }
   ],
   "source": [
    "matranE = matranA @ matranB\n",
    "matranE"
   ]
  },
  {
   "attachments": {},
   "cell_type": "markdown",
   "metadata": {},
   "source": [
    "Bài 3"
   ]
  },
  {
   "cell_type": "code",
   "execution_count": 82,
   "metadata": {},
   "outputs": [
    {
     "data": {
      "text/plain": [
       "array([ 1, 97, 82, 60,  3, 19, 52, 97, 25, 29, 28, 90,  7, 97, 53, 19,  4,\n",
       "       95, 25, 90, 66])"
      ]
     },
     "execution_count": 82,
     "metadata": {},
     "output_type": "execute_result"
    }
   ],
   "source": [
    "vec = np.random.randint(0, 100, size=(21,))\n",
    "vec"
   ]
  },
  {
   "cell_type": "code",
   "execution_count": 83,
   "metadata": {},
   "outputs": [
    {
     "name": "stdout",
     "output_type": "stream",
     "text": [
      "[ 1 97 82 60  3 19 52]\n",
      "[97 25 29 28 90  7 97]\n",
      "[53 19  4 95 25 90 66]\n"
     ]
    }
   ],
   "source": [
    "u, v, w = np.split(vec, 3)\n",
    "print(u)\n",
    "print(v)\n",
    "print(w)"
   ]
  },
  {
   "cell_type": "code",
   "execution_count": 84,
   "metadata": {},
   "outputs": [
    {
     "data": {
      "text/plain": [
       "array([  97, 2425, 2378, 1680,  270,  133, 5044])"
      ]
     },
     "execution_count": 84,
     "metadata": {},
     "output_type": "execute_result"
    }
   ],
   "source": [
    "# element-wise multiplication\n",
    "u*v"
   ]
  },
  {
   "cell_type": "code",
   "execution_count": 85,
   "metadata": {},
   "outputs": [
    {
     "data": {
      "text/plain": [
       "17674"
      ]
     },
     "execution_count": 85,
     "metadata": {},
     "output_type": "execute_result"
    }
   ],
   "source": [
    "# dot product\n",
    "v.dot(w)"
   ]
  },
  {
   "cell_type": "code",
   "execution_count": 86,
   "metadata": {},
   "outputs": [
    {
     "data": {
      "text/plain": [
       "(7,)"
      ]
     },
     "execution_count": 86,
     "metadata": {},
     "output_type": "execute_result"
    }
   ],
   "source": [
    "u.shape"
   ]
  },
  {
   "cell_type": "code",
   "execution_count": 88,
   "metadata": {},
   "outputs": [
    {
     "data": {
      "text/plain": [
       "array([ 1, 97, 82, 60,  3, 19, 52])"
      ]
     },
     "execution_count": 88,
     "metadata": {},
     "output_type": "execute_result"
    }
   ],
   "source": [
    "np.transpose(u)"
   ]
  },
  {
   "attachments": {},
   "cell_type": "markdown",
   "metadata": {},
   "source": [
    "**Nhận xét**: Ta thấy $u$ và $u^T$ tương có shape tương tự như nhau do vector khi chuyển vị lại thì vẫn là 1 vector như cũ. Nếu muôn khác biệt ta cần biến 1D vector thành column vector trong 2D, khi đó việc chuyển vị sẽ thành row vector. "
   ]
  }
 ],
 "metadata": {
  "kernelspec": {
   "display_name": "Python 3",
   "language": "python",
   "name": "python3"
  },
  "language_info": {
   "codemirror_mode": {
    "name": "ipython",
    "version": 3
   },
   "file_extension": ".py",
   "mimetype": "text/x-python",
   "name": "python",
   "nbconvert_exporter": "python",
   "pygments_lexer": "ipython3",
   "version": "3.10.9"
  },
  "orig_nbformat": 4
 },
 "nbformat": 4,
 "nbformat_minor": 2
}
